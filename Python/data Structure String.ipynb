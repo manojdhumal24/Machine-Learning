{
 "cells": [
  {
   "cell_type": "markdown",
   "metadata": {},
   "source": [
    "# Data Structure String Basics"
   ]
  },
  {
   "cell_type": "code",
   "execution_count": 1,
   "metadata": {},
   "outputs": [
    {
     "name": "stdout",
     "output_type": "stream",
     "text": [
      "h\n",
      "\n",
      "\n",
      "e\n",
      "\n",
      "\n",
      "l\n",
      "\n",
      "\n",
      "l\n",
      "\n",
      "\n",
      "o\n",
      "\n",
      "\n"
     ]
    }
   ],
   "source": [
    "s =\"hello\"\n",
    "for el in s:\n",
    "    print(el)\n",
    "    print(\"\\n\")\n"
   ]
  },
  {
   "cell_type": "code",
   "execution_count": 2,
   "metadata": {},
   "outputs": [
    {
     "name": "stdout",
     "output_type": "stream",
     "text": [
      "count\n",
      "count\n",
      "count\n",
      "count\n"
     ]
    }
   ],
   "source": [
    "s =\"helloll\"\n",
    "count = 0\n",
    "for el in s:\n",
    "    if el == \"l\":\n",
    "        count = count +1\n",
    "        print(\"count\")  "
   ]
  },
  {
   "cell_type": "code",
   "execution_count": 3,
   "metadata": {},
   "outputs": [
    {
     "name": "stdout",
     "output_type": "stream",
     "text": [
      "h\n",
      "e\n",
      "l\n",
      "l\n",
      "o\n",
      "l\n",
      "l\n"
     ]
    }
   ],
   "source": [
    "s =\"helloll\"\n",
    "count = 0\n",
    "for el in range(0, len(s)):\n",
    "    print(s[el])  "
   ]
  },
  {
   "cell_type": "code",
   "execution_count": 4,
   "metadata": {},
   "outputs": [
    {
     "name": "stdout",
     "output_type": "stream",
     "text": [
      "dlrowolleh\n"
     ]
    }
   ],
   "source": [
    "s =\"helloworld\"\n",
    "reverse_str = s[::-1]\n",
    "print(reverse_str)"
   ]
  },
  {
   "cell_type": "code",
   "execution_count": 5,
   "metadata": {},
   "outputs": [
    {
     "name": "stdout",
     "output_type": "stream",
     "text": [
      "llo\n"
     ]
    }
   ],
   "source": [
    "s=\"helloworld\"\n",
    "rev =s[2:5:]\n",
    "print(rev)"
   ]
  },
  {
   "cell_type": "code",
   "execution_count": 6,
   "metadata": {},
   "outputs": [
    {
     "name": "stdout",
     "output_type": "stream",
     "text": [
      "hlo\n"
     ]
    }
   ],
   "source": [
    "s=\"hello\"\n",
    "rev =s[::2]\n",
    "print(rev)"
   ]
  },
  {
   "cell_type": "code",
   "execution_count": 4,
   "metadata": {},
   "outputs": [
    {
     "name": "stdout",
     "output_type": "stream",
     "text": [
      "True\n"
     ]
    }
   ],
   "source": [
    "s=\"perfectplanb\"\n",
    "print(s.islower())"
   ]
  },
  {
   "cell_type": "code",
   "execution_count": 5,
   "metadata": {},
   "outputs": [
    {
     "name": "stdout",
     "output_type": "stream",
     "text": [
      "perfectplanb\n"
     ]
    }
   ],
   "source": [
    "s=\"    perfectplanb\"\n",
    "print(s.lstrip())"
   ]
  },
  {
   "cell_type": "code",
   "execution_count": 6,
   "metadata": {},
   "outputs": [
    {
     "name": "stdout",
     "output_type": "stream",
     "text": [
      "9\n"
     ]
    }
   ],
   "source": [
    "data = \"From manojdhumal24@gmail.com sun jan 24 21\"\n",
    "atpos = data.find('j')\n",
    "print(atpos)"
   ]
  },
  {
   "cell_type": "code",
   "execution_count": 11,
   "metadata": {},
   "outputs": [
    {
     "name": "stdout",
     "output_type": "stream",
     "text": [
      "9\n",
      "18\n",
      "jdhumal24\n"
     ]
    }
   ],
   "source": [
    "data = \"From manojdhumal24@gmail.com sun jan 24 21\"\n",
    "atpos = data.find('j')\n",
    "print(atpos)\n",
    "stpos =data.find('@')\n",
    "print(stpos)\n",
    "str =data[atpos:stpos]\n",
    "print(str)"
   ]
  },
  {
   "cell_type": "code",
   "execution_count": 16,
   "metadata": {},
   "outputs": [
    {
     "name": "stdout",
     "output_type": "stream",
     "text": [
      "4\n",
      "18\n",
      "manojdhumal24\n"
     ]
    }
   ],
   "source": [
    "data = \"From manojdhumal24@gmail.com sun jan 24 21\"\n",
    "atpos = data.find(' ')\n",
    "print(atpos)\n",
    "stpos =data.find('@')\n",
    "print(stpos)\n",
    "str =data[atpos+1:stpos]\n",
    "print(str)"
   ]
  },
  {
   "cell_type": "code",
   "execution_count": 17,
   "metadata": {},
   "outputs": [
    {
     "name": "stdout",
     "output_type": "stream",
     "text": [
      "PerfectplanB!\n"
     ]
    }
   ],
   "source": [
    "str1 = \"Perfect\"\n",
    "str2 = \"planB!\"\n",
    "bob= str1+str2\n",
    "print(bob)"
   ]
  },
  {
   "cell_type": "code",
   "execution_count": 19,
   "metadata": {},
   "outputs": [
    {
     "name": "stdout",
     "output_type": "stream",
     "text": [
      "53\n"
     ]
    }
   ],
   "source": [
    "x='51'\n",
    "y =int(x)+2\n",
    "print(y)"
   ]
  },
  {
   "cell_type": "code",
   "execution_count": 20,
   "metadata": {},
   "outputs": [
    {
     "name": "stdout",
     "output_type": "stream",
     "text": [
      "p\n",
      "e\n",
      "r\n",
      "f\n",
      "e\n",
      "c\n",
      "t\n",
      "p\n",
      "l\n",
      "a\n",
      "n\n",
      "b\n"
     ]
    }
   ],
   "source": [
    "for let in 'perfectplanb' :\n",
    "    print(let)"
   ]
  },
  {
   "cell_type": "code",
   "execution_count": 21,
   "metadata": {},
   "outputs": [
    {
     "name": "stdout",
     "output_type": "stream",
     "text": [
      "21\n"
     ]
    }
   ],
   "source": [
    "print(len('per')*7)"
   ]
  },
  {
   "cell_type": "code",
   "execution_count": 22,
   "metadata": {},
   "outputs": [
    {
     "name": "stdout",
     "output_type": "stream",
     "text": [
      ".pe\n"
     ]
    }
   ],
   "source": [
    "data = 'From jyoti.perfectplanb@uct.ac.za Sat Jan 5 09:14:16 2008'\n",
    "pos = data.find('.')\n",
    "print(data[pos:pos+3])"
   ]
  },
  {
   "cell_type": "code",
   "execution_count": 27,
   "metadata": {},
   "outputs": [
    {
     "name": "stdout",
     "output_type": "stream",
     "text": [
      "0.7541\n"
     ]
    }
   ],
   "source": [
    "str = 'Perfect-Plan-B:0.7541'\n",
    "position = str.find(':')\n",
    "number= str[(position+1):]\n",
    "floating_number = float(number)\n",
    "print(floating_number)"
   ]
  },
  {
   "cell_type": "code",
   "execution_count": null,
   "metadata": {},
   "outputs": [],
   "source": []
  }
 ],
 "metadata": {
  "kernelspec": {
   "display_name": "Python 3",
   "language": "python",
   "name": "python3"
  },
  "language_info": {
   "codemirror_mode": {
    "name": "ipython",
    "version": 3
   },
   "file_extension": ".py",
   "mimetype": "text/x-python",
   "name": "python",
   "nbconvert_exporter": "python",
   "pygments_lexer": "ipython3",
   "version": "3.8.3"
  }
 },
 "nbformat": 4,
 "nbformat_minor": 4
}
