{
 "cells": [
  {
   "cell_type": "markdown",
   "metadata": {},
   "source": [
    "# List"
   ]
  },
  {
   "cell_type": "code",
   "execution_count": 1,
   "metadata": {},
   "outputs": [
    {
     "name": "stdout",
     "output_type": "stream",
     "text": [
      "['banana', 'orange', 'apple', 24, 48]\n"
     ]
    }
   ],
   "source": [
    "list = [\"banana\", \"orange\", \"apple\",24,48]\n",
    "print(list)\n"
   ]
  },
  {
   "cell_type": "code",
   "execution_count": 2,
   "metadata": {},
   "outputs": [
    {
     "name": "stdout",
     "output_type": "stream",
     "text": [
      "['banana', 'orange', 'apple', 24, 48]\n",
      "['banana', 'orange', 'apple', 'grapes', 48]\n"
     ]
    }
   ],
   "source": [
    "list = [\"banana\", \"orange\", \"apple\",24,48]\n",
    "print(list)\n",
    "list[3] =\"grapes\"\n",
    "print(list)\n"
   ]
  },
  {
   "cell_type": "code",
   "execution_count": 3,
   "metadata": {},
   "outputs": [
    {
     "name": "stdout",
     "output_type": "stream",
     "text": [
      "banana\n",
      "orange\n",
      "apple\n",
      "24\n",
      "48\n"
     ]
    }
   ],
   "source": [
    "list = [\"banana\", \"orange\", \"apple\",24,48]\n",
    "for l in list:\n",
    "    print(l)\n"
   ]
  },
  {
   "cell_type": "code",
   "execution_count": 4,
   "metadata": {},
   "outputs": [
    {
     "name": "stdout",
     "output_type": "stream",
     "text": [
      "banana\n",
      "orange\n",
      "apple\n",
      "24\n",
      "48\n",
      "banana\n",
      "orange\n",
      "apple\n",
      "24\n",
      "48\n"
     ]
    }
   ],
   "source": [
    "list = [\"banana\", \"orange\", \"apple\",24,48]\n",
    "for l in list:\n",
    "    print(l)\n",
    "for l in range(len(list)):\n",
    "    print(list[l])\n"
   ]
  },
  {
   "cell_type": "code",
   "execution_count": 5,
   "metadata": {},
   "outputs": [
    {
     "name": "stdout",
     "output_type": "stream",
     "text": [
      "['orange', 'apple', 24]\n"
     ]
    }
   ],
   "source": [
    "list = [\"banana\", \"orange\", \"apple\",24,48,56]\n",
    "print(list[1:4])\n"
   ]
  },
  {
   "cell_type": "code",
   "execution_count": 6,
   "metadata": {},
   "outputs": [
    {
     "name": "stdout",
     "output_type": "stream",
     "text": [
      "['banana', 'orange', 'apple']\n"
     ]
    }
   ],
   "source": [
    "list = [\"banana\", \"orange\", \"apple\",24,48,56]\n",
    "print(list[:3])"
   ]
  },
  {
   "cell_type": "code",
   "execution_count": 9,
   "metadata": {},
   "outputs": [
    {
     "name": "stdout",
     "output_type": "stream",
     "text": [
      "['apple', 24, 48, 56]\n"
     ]
    }
   ],
   "source": [
    "list = [\"banana\", \"orange\", \"apple\",24,48,56]\n",
    "print(list[2:])"
   ]
  },
  {
   "cell_type": "code",
   "execution_count": null,
   "metadata": {},
   "outputs": [],
   "source": [
    "stuff=list()\n",
    "stuff.append(\"50\")\n",
    "stuff.append(\"60\")\n",
    "print(stuff)\n",
    "if \"50\" in stuff:\n",
    "    print(\"YES\")\n"
   ]
  },
  {
   "cell_type": "code",
   "execution_count": null,
   "metadata": {},
   "outputs": [],
   "source": [
    "stuff=list()\n",
    "stuff.append(\"50\")\n",
    "stuff.append(\"60\")\n",
    "stuff.append(\"hi\")\n",
    "stuff.append(\"Mukesh\")\n",
    "print(stuff)\n",
    "if \"50\" not in stuff:\n",
    "    print(\"YES\")\n",
    "stuff.sort()\n",
    "print(stuff)\n"
   ]
  },
  {
   "cell_type": "code",
   "execution_count": 28,
   "metadata": {},
   "outputs": [
    {
     "name": "stdout",
     "output_type": "stream",
     "text": [
      "enter a number3\n",
      "avg: 3.0\n",
      "enter a number6\n",
      "avg: 4.5\n",
      "enter a number9\n",
      "avg: 6.0\n",
      "enter a number8\n",
      "avg: 6.5\n",
      "enter a numberdone\n"
     ]
    }
   ],
   "source": [
    "total = 0\n",
    "count = 0 \n",
    "while True:\n",
    "    inp = input(\"enter a number\")\n",
    "    if inp =='done':break\n",
    "    value = float(inp)\n",
    "    total = total + value\n",
    "    count = count + 1\n",
    "    avg=total/count\n",
    "    print('avg:',avg)"
   ]
  },
  {
   "cell_type": "code",
   "execution_count": null,
   "metadata": {},
   "outputs": [],
   "source": [
    "numlist = list()\n",
    "while True:\n",
    "    inp = input(\"Enter a number\")\n",
    "    if inp == 'done': break\n",
    "    value = float(inp)\n",
    "    numlist.append (value)\n",
    "    avg=sum(numlist)/len(numlist)\n",
    "    print(\"Avg:\",avg)"
   ]
  },
  {
   "cell_type": "code",
   "execution_count": 39,
   "metadata": {},
   "outputs": [
    {
     "name": "stdout",
     "output_type": "stream",
     "text": [
      "['manojdhumal24@gmail.com', '66', '88', '99']\n"
     ]
    }
   ],
   "source": [
    "line = \"manojdhumal24@gmail.com 66 88 99\"\n",
    "words = line.split()\n",
    "print(words)\n"
   ]
  },
  {
   "cell_type": "code",
   "execution_count": 40,
   "metadata": {},
   "outputs": [
    {
     "name": "stdout",
     "output_type": "stream",
     "text": [
      "66\n"
     ]
    }
   ],
   "source": [
    "line = \"manojdhumal24@gmail.com 66 88 99\"\n",
    "words = line.split()\n",
    "print(words[1])\n"
   ]
  },
  {
   "cell_type": "code",
   "execution_count": 41,
   "metadata": {},
   "outputs": [
    {
     "name": "stdout",
     "output_type": "stream",
     "text": [
      "manojdhumal24@gmail.com\n",
      "manojdhumal24\n"
     ]
    }
   ],
   "source": [
    "line = \"from manojdhumal24@gmail.com 66 88 99\"\n",
    "words = line.split()\n",
    "print(words[1])\n",
    "email  = words[1]\n",
    "domain = email.split('@')\n",
    "print(domain[0])\n"
   ]
  },
  {
   "cell_type": "code",
   "execution_count": 43,
   "metadata": {},
   "outputs": [
    {
     "name": "stdout",
     "output_type": "stream",
     "text": [
      "B\n"
     ]
    }
   ],
   "source": [
    "company = [ 'Perfect', 'Plan', 'B' ]\n",
    "company.sort()\n",
    "print(company[0])"
   ]
  },
  {
   "cell_type": "code",
   "execution_count": 57,
   "metadata": {},
   "outputs": [
    {
     "name": "stdout",
     "output_type": "stream",
     "text": [
      "['B']\n"
     ]
    }
   ],
   "source": [
    "company= [ 'Perfect', 'Plan', 'B' ]\n",
    "print(company[2:])"
   ]
  },
  {
   "cell_type": "code",
   "execution_count": 61,
   "metadata": {},
   "outputs": [
    {
     "ename": "TypeError",
     "evalue": "'str' object does not support item assignment",
     "output_type": "error",
     "traceback": [
      "\u001b[1;31m---------------------------------------------------------------------------\u001b[0m",
      "\u001b[1;31mTypeError\u001b[0m                                 Traceback (most recent call last)",
      "\u001b[1;32m<ipython-input-61-8ca57de20e9e>\u001b[0m in \u001b[0;36m<module>\u001b[1;34m\u001b[0m\n\u001b[0;32m      1\u001b[0m \u001b[0mcompany\u001b[0m \u001b[1;33m=\u001b[0m \u001b[1;34m'PerfectPlanB'\u001b[0m\u001b[1;33m\u001b[0m\u001b[1;33m\u001b[0m\u001b[0m\n\u001b[1;32m----> 2\u001b[1;33m \u001b[0mcompany\u001b[0m\u001b[1;33m[\u001b[0m\u001b[1;36m0\u001b[0m\u001b[1;33m]\u001b[0m \u001b[1;33m=\u001b[0m \u001b[1;34m'p'\u001b[0m\u001b[1;33m\u001b[0m\u001b[1;33m\u001b[0m\u001b[0m\n\u001b[0m\u001b[0;32m      3\u001b[0m \u001b[0mprint\u001b[0m\u001b[1;33m(\u001b[0m\u001b[0mcompany\u001b[0m\u001b[1;33m)\u001b[0m\u001b[1;33m\u001b[0m\u001b[1;33m\u001b[0m\u001b[0m\n",
      "\u001b[1;31mTypeError\u001b[0m: 'str' object does not support item assignment"
     ]
    }
   ],
   "source": [
    "company = 'PerfectPlanB'\n",
    "company[0] = 'p'\n",
    "print(company)"
   ]
  },
  {
   "cell_type": "code",
   "execution_count": 66,
   "metadata": {},
   "outputs": [
    {
     "name": "stdout",
     "output_type": "stream",
     "text": [
      "6\n"
     ]
    }
   ],
   "source": [
    "a = [1, 2, 3]\n",
    "b = [4, 5, 6]\n",
    "c = a + b\n",
    "print(len(c))"
   ]
  },
  {
   "cell_type": "code",
   "execution_count": null,
   "metadata": {},
   "outputs": [],
   "source": []
  }
 ],
 "metadata": {
  "kernelspec": {
   "display_name": "Python 3",
   "language": "python",
   "name": "python3"
  },
  "language_info": {
   "codemirror_mode": {
    "name": "ipython",
    "version": 3
   },
   "file_extension": ".py",
   "mimetype": "text/x-python",
   "name": "python",
   "nbconvert_exporter": "python",
   "pygments_lexer": "ipython3",
   "version": "3.8.3"
  }
 },
 "nbformat": 4,
 "nbformat_minor": 4
}
