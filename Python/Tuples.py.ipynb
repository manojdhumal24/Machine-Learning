{
 "cells": [
  {
   "cell_type": "markdown",
   "metadata": {},
   "source": [
    "# Tuples Example"
   ]
  },
  {
   "cell_type": "code",
   "execution_count": 1,
   "metadata": {},
   "outputs": [
    {
     "name": "stdout",
     "output_type": "stream",
     "text": [
      "[(10, 'a')]\n",
      "[(10, 'a'), (15, 'b')]\n",
      "[(10, 'a'), (15, 'b'), (20, 'c')]\n"
     ]
    }
   ],
   "source": [
    "c = { \"a\":10, \"b\":15, \"c\":20}\n",
    "tmp = list()\n",
    "for k,v in c.items():\n",
    "    tmp.append((v,k))\n",
    "    print(tmp)"
   ]
  },
  {
   "cell_type": "code",
   "execution_count": 3,
   "metadata": {},
   "outputs": [
    {
     "name": "stdout",
     "output_type": "stream",
     "text": [
      "[(10, 'a'), (15, 'b'), (20, 'c')]\n"
     ]
    }
   ],
   "source": [
    "print(sorted(tmp))"
   ]
  },
  {
   "cell_type": "code",
   "execution_count": 4,
   "metadata": {},
   "outputs": [
    {
     "name": "stdout",
     "output_type": "stream",
     "text": [
      "[(20, 'c'), (15, 'b'), (10, 'a')]\n"
     ]
    }
   ],
   "source": [
    "tmp = sorted(tmp,reverse = True)\n",
    "print(tmp)"
   ]
  },
  {
   "cell_type": "code",
   "execution_count": 5,
   "metadata": {},
   "outputs": [
    {
     "name": "stdout",
     "output_type": "stream",
     "text": [
      "[(10, 'a'), (15, 'b'), (20, 'c')]\n"
     ]
    }
   ],
   "source": [
    "c = { \"a\":10, \"b\":15, \"c\":20}\n",
    "print(sorted([(v,k) for k,v in c.items()]))"
   ]
  },
  {
   "cell_type": "code",
   "execution_count": null,
   "metadata": {},
   "outputs": [],
   "source": []
  }
 ],
 "metadata": {
  "kernelspec": {
   "display_name": "Python 3",
   "language": "python",
   "name": "python3"
  },
  "language_info": {
   "codemirror_mode": {
    "name": "ipython",
    "version": 3
   },
   "file_extension": ".py",
   "mimetype": "text/x-python",
   "name": "python",
   "nbconvert_exporter": "python",
   "pygments_lexer": "ipython3",
   "version": "3.8.3"
  }
 },
 "nbformat": 4,
 "nbformat_minor": 4
}
