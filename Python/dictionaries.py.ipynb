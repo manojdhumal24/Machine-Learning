{
 "cells": [
  {
   "cell_type": "markdown",
   "metadata": {},
   "source": [
    "# Dictionaries"
   ]
  },
  {
   "cell_type": "code",
   "execution_count": 6,
   "metadata": {},
   "outputs": [
    {
     "name": "stdout",
     "output_type": "stream",
     "text": [
      "{'bachlores': 2018, 'master': 2020, 'job': 2021}\n"
     ]
    }
   ],
   "source": [
    "purse = dict()\n",
    "purse['bachlores'] = 2018\n",
    "purse['master'] = 2020\n",
    "purse['job'] = 2021\n",
    "print(purse)\n"
   ]
  },
  {
   "cell_type": "code",
   "execution_count": 4,
   "metadata": {},
   "outputs": [
    {
     "name": "stdout",
     "output_type": "stream",
     "text": [
      "{'bachlores': 2018, 'master': 2020, 'job': 2021}\n",
      "{'bachlores': 2018, 'master': 2030, 'job': 2021}\n"
     ]
    }
   ],
   "source": [
    "purse = dict()\n",
    "purse['bachlores'] = 2018\n",
    "purse['master'] = 2020\n",
    "purse['job'] = 2021\n",
    "print(purse)\n",
    "purse['master'] = purse['master'] + 10\n",
    "print(purse)"
   ]
  },
  {
   "cell_type": "markdown",
   "metadata": {},
   "source": [
    "# Dictionaries Literals (Constant)"
   ]
  },
  {
   "cell_type": "code",
   "execution_count": 8,
   "metadata": {},
   "outputs": [
    {
     "name": "stdout",
     "output_type": "stream",
     "text": [
      "{'bachlores': 2018, 'master': 2020, 'job': 2021}\n",
      "{'bachlores': 2018, 'master': 2030, 'job': 2021}\n",
      "{'hey': 5, 'hello': 7}\n"
     ]
    }
   ],
   "source": [
    "purse = dict()\n",
    "purse['bachlores'] = 2018\n",
    "purse['master'] = 2020\n",
    "purse['job'] = 2021\n",
    "print(purse)\n",
    "purse['master'] = purse['master'] + 10\n",
    "print(purse)\n",
    "a ={'hey':5,'hello':7}\n",
    "print(a)"
   ]
  },
  {
   "cell_type": "code",
   "execution_count": 10,
   "metadata": {},
   "outputs": [
    {
     "name": "stdout",
     "output_type": "stream",
     "text": [
      "enter a lineI was wondering about Phd\n",
      "['I', 'was', 'wondering', 'about', 'Phd']\n"
     ]
    }
   ],
   "source": [
    "purse = dict()\n",
    "line = input(\"enter a line\")\n",
    "word = line.split()\n",
    "print(word)"
   ]
  },
  {
   "cell_type": "markdown",
   "metadata": {},
   "source": [
    "# Get function count example"
   ]
  },
  {
   "cell_type": "code",
   "execution_count": 11,
   "metadata": {},
   "outputs": [
    {
     "name": "stdout",
     "output_type": "stream",
     "text": [
      "enter a linei am fan of python i like python i will be doing in anycode in python\n",
      "['i', 'am', 'fan', 'of', 'python', 'i', 'like', 'python', 'i', 'will', 'be', 'doing', 'in', 'anycode', 'in', 'python']\n",
      "counts {'i': 1}\n",
      "counts {'i': 1, 'am': 1}\n",
      "counts {'i': 1, 'am': 1, 'fan': 1}\n",
      "counts {'i': 1, 'am': 1, 'fan': 1, 'of': 1}\n",
      "counts {'i': 1, 'am': 1, 'fan': 1, 'of': 1, 'python': 1}\n",
      "counts {'i': 2, 'am': 1, 'fan': 1, 'of': 1, 'python': 1}\n",
      "counts {'i': 2, 'am': 1, 'fan': 1, 'of': 1, 'python': 1, 'like': 1}\n",
      "counts {'i': 2, 'am': 1, 'fan': 1, 'of': 1, 'python': 2, 'like': 1}\n",
      "counts {'i': 3, 'am': 1, 'fan': 1, 'of': 1, 'python': 2, 'like': 1}\n",
      "counts {'i': 3, 'am': 1, 'fan': 1, 'of': 1, 'python': 2, 'like': 1, 'will': 1}\n",
      "counts {'i': 3, 'am': 1, 'fan': 1, 'of': 1, 'python': 2, 'like': 1, 'will': 1, 'be': 1}\n",
      "counts {'i': 3, 'am': 1, 'fan': 1, 'of': 1, 'python': 2, 'like': 1, 'will': 1, 'be': 1, 'doing': 1}\n",
      "counts {'i': 3, 'am': 1, 'fan': 1, 'of': 1, 'python': 2, 'like': 1, 'will': 1, 'be': 1, 'doing': 1, 'in': 1}\n",
      "counts {'i': 3, 'am': 1, 'fan': 1, 'of': 1, 'python': 2, 'like': 1, 'will': 1, 'be': 1, 'doing': 1, 'in': 1, 'anycode': 1}\n",
      "counts {'i': 3, 'am': 1, 'fan': 1, 'of': 1, 'python': 2, 'like': 1, 'will': 1, 'be': 1, 'doing': 1, 'in': 2, 'anycode': 1}\n",
      "counts {'i': 3, 'am': 1, 'fan': 1, 'of': 1, 'python': 3, 'like': 1, 'will': 1, 'be': 1, 'doing': 1, 'in': 2, 'anycode': 1}\n"
     ]
    }
   ],
   "source": [
    "purse = dict()\n",
    "line = input(\"enter a line\")\n",
    "word = line.split()\n",
    "print(word)\n",
    "for wor in word:\n",
    "    purse[wor] = purse.get(wor,0) +1\n",
    "    print(\"counts\",purse)"
   ]
  },
  {
   "cell_type": "code",
   "execution_count": 12,
   "metadata": {},
   "outputs": [
    {
     "name": "stdout",
     "output_type": "stream",
     "text": [
      "enter a lineat on a by the at on a by the full on \n",
      "['at', 'on', 'a', 'by', 'the', 'at', 'on', 'a', 'by', 'the', 'full', 'on']\n",
      "counts {'at': 1}\n",
      "counts {'at': 1, 'on': 1}\n",
      "counts {'at': 1, 'on': 1, 'a': 1}\n",
      "counts {'at': 1, 'on': 1, 'a': 1, 'by': 1}\n",
      "counts {'at': 1, 'on': 1, 'a': 1, 'by': 1, 'the': 1}\n",
      "counts {'at': 2, 'on': 1, 'a': 1, 'by': 1, 'the': 1}\n",
      "counts {'at': 2, 'on': 2, 'a': 1, 'by': 1, 'the': 1}\n",
      "counts {'at': 2, 'on': 2, 'a': 2, 'by': 1, 'the': 1}\n",
      "counts {'at': 2, 'on': 2, 'a': 2, 'by': 2, 'the': 1}\n",
      "counts {'at': 2, 'on': 2, 'a': 2, 'by': 2, 'the': 2}\n",
      "counts {'at': 2, 'on': 2, 'a': 2, 'by': 2, 'the': 2, 'full': 1}\n",
      "counts {'at': 2, 'on': 3, 'a': 2, 'by': 2, 'the': 2, 'full': 1}\n"
     ]
    }
   ],
   "source": [
    "purse = dict()\n",
    "line = input(\"enter a line\")\n",
    "word = line.split()\n",
    "print(word)\n",
    "for wor in word:\n",
    "    purse[wor] = purse.get(wor,0) +1\n",
    "    print(\"counts\",purse)"
   ]
  },
  {
   "cell_type": "markdown",
   "metadata": {},
   "source": [
    "# Loops and Dictionaries"
   ]
  },
  {
   "cell_type": "code",
   "execution_count": 13,
   "metadata": {},
   "outputs": [
    {
     "name": "stdout",
     "output_type": "stream",
     "text": [
      "['hello', 'whatsup', 'bye']\n"
     ]
    }
   ],
   "source": [
    "purse = {'hello':4, 'whatsup':6, 'bye':9}\n",
    "print(list(purse))"
   ]
  },
  {
   "cell_type": "code",
   "execution_count": 19,
   "metadata": {},
   "outputs": [
    {
     "name": "stdout",
     "output_type": "stream",
     "text": [
      "['hello', 'whatsup', 'bye']\n",
      "dict_keys(['hello', 'whatsup', 'bye'])\n"
     ]
    }
   ],
   "source": [
    "purse = {'hello':4, 'whatsup':6, 'bye':9}\n",
    "print(list(purse))\n",
    "print(purse.keys())"
   ]
  },
  {
   "cell_type": "code",
   "execution_count": 21,
   "metadata": {},
   "outputs": [
    {
     "name": "stdout",
     "output_type": "stream",
     "text": [
      "['hello', 'whatsup', 'bye']\n",
      "dict_keys(['hello', 'whatsup', 'bye'])\n",
      "dict_values([4, 6, 9])\n"
     ]
    }
   ],
   "source": [
    "purse = {'hello':4, 'whatsup':6, 'bye':9}\n",
    "print(list(purse))\n",
    "print(purse.keys())\n",
    "print(purse.values())"
   ]
  },
  {
   "cell_type": "code",
   "execution_count": 22,
   "metadata": {},
   "outputs": [
    {
     "name": "stdout",
     "output_type": "stream",
     "text": [
      "['hello', 'whatsup', 'bye']\n",
      "dict_keys(['hello', 'whatsup', 'bye'])\n",
      "dict_values([4, 6, 9])\n",
      "dict_items([('hello', 4), ('whatsup', 6), ('bye', 9)])\n"
     ]
    }
   ],
   "source": [
    "purse = {'hello':4, 'whatsup':6, 'bye':9}\n",
    "print(list(purse))\n",
    "print(purse.keys())\n",
    "print(purse.values())\n",
    "print(purse.items())"
   ]
  },
  {
   "cell_type": "code",
   "execution_count": 23,
   "metadata": {},
   "outputs": [
    {
     "name": "stdout",
     "output_type": "stream",
     "text": [
      "['hello', 'whatsup', 'bye']\n",
      "dict_keys(['hello', 'whatsup', 'bye'])\n",
      "dict_values([4, 6, 9])\n",
      "dict_items([('hello', 4), ('whatsup', 6), ('bye', 9)])\n",
      "hello 4\n",
      "whatsup 6\n",
      "bye 9\n"
     ]
    }
   ],
   "source": [
    "purse = {'hello':4, 'whatsup':6, 'bye':9}\n",
    "print(list(purse))\n",
    "print(purse.keys())\n",
    "print(purse.values())\n",
    "print(purse.items())\n",
    "for aa,bb in purse.items():\n",
    "    print(aa,bb)"
   ]
  },
  {
   "cell_type": "code",
   "execution_count": 25,
   "metadata": {},
   "outputs": [
    {
     "ename": "KeyError",
     "evalue": "'can'",
     "output_type": "error",
     "traceback": [
      "\u001b[1;31m---------------------------------------------------------------------------\u001b[0m",
      "\u001b[1;31mKeyError\u001b[0m                                  Traceback (most recent call last)",
      "\u001b[1;32m<ipython-input-25-bac6b826dacd>\u001b[0m in \u001b[0;36m<module>\u001b[1;34m\u001b[0m\n\u001b[0;32m      1\u001b[0m \u001b[0mppb\u001b[0m \u001b[1;33m=\u001b[0m \u001b[0mdict\u001b[0m\u001b[1;33m(\u001b[0m\u001b[1;33m)\u001b[0m\u001b[1;33m\u001b[0m\u001b[1;33m\u001b[0m\u001b[0m\n\u001b[1;32m----> 2\u001b[1;33m \u001b[0mprint\u001b[0m\u001b[1;33m(\u001b[0m\u001b[0mppb\u001b[0m\u001b[1;33m[\u001b[0m \u001b[1;34m'can'\u001b[0m \u001b[1;33m]\u001b[0m\u001b[1;33m)\u001b[0m\u001b[1;33m\u001b[0m\u001b[1;33m\u001b[0m\u001b[0m\n\u001b[0m",
      "\u001b[1;31mKeyError\u001b[0m: 'can'"
     ]
    }
   ],
   "source": [
    "ppb = dict()\n",
    "print(ppb['can'])"
   ]
  },
  {
   "cell_type": "code",
   "execution_count": 26,
   "metadata": {},
   "outputs": [
    {
     "name": "stdout",
     "output_type": "stream",
     "text": [
      "-1\n"
     ]
    }
   ],
   "source": [
    "ppb = dict()\n",
    "print(ppb.get('can',-1))"
   ]
  },
  {
   "cell_type": "code",
   "execution_count": 27,
   "metadata": {},
   "outputs": [
    {
     "name": "stdout",
     "output_type": "stream",
     "text": [
      "{'p': 1}\n",
      "{'p': 1, 'e': 1}\n",
      "{'p': 1, 'e': 1, 'r': 1}\n",
      "{'p': 1, 'e': 1, 'r': 1, 'f': 1}\n",
      "{'p': 1, 'e': 2, 'r': 1, 'f': 1}\n",
      "{'p': 1, 'e': 2, 'r': 1, 'f': 1, 'c': 1}\n",
      "{'p': 1, 'e': 2, 'r': 1, 'f': 1, 'c': 1, 't': 1}\n",
      "{'p': 2, 'e': 2, 'r': 1, 'f': 1, 'c': 1, 't': 1}\n",
      "{'p': 2, 'e': 2, 'r': 1, 'f': 1, 'c': 1, 't': 1, 'l': 1}\n",
      "{'p': 2, 'e': 2, 'r': 1, 'f': 1, 'c': 1, 't': 1, 'l': 1, 'a': 1}\n",
      "{'p': 2, 'e': 2, 'r': 1, 'f': 1, 'c': 1, 't': 1, 'l': 1, 'a': 1, 'n': 1}\n",
      "{'p': 2, 'e': 2, 'r': 1, 'f': 1, 'c': 1, 't': 1, 'l': 1, 'a': 1, 'n': 1, 'b': 1}\n"
     ]
    }
   ],
   "source": [
    "word = 'perfectplanb'\n",
    "d = dict()\n",
    "for c in word:\n",
    "    d[c] = d.get(c,0) + 1\n",
    "    print(d)"
   ]
  },
  {
   "cell_type": "code",
   "execution_count": 28,
   "metadata": {},
   "outputs": [
    {
     "name": "stdout",
     "output_type": "stream",
     "text": [
      "plan 42\n",
      "b 100\n"
     ]
    }
   ],
   "source": [
    "counts = { 'perfect' : 1 , 'plan' : 42, 'b' : 100}\n",
    "for key in counts:\n",
    "    if counts[key] > 10 :\n",
    "        print(key,counts[key])"
   ]
  },
  {
   "cell_type": "code",
   "execution_count": null,
   "metadata": {},
   "outputs": [],
   "source": []
  }
 ],
 "metadata": {
  "kernelspec": {
   "display_name": "Python 3",
   "language": "python",
   "name": "python3"
  },
  "language_info": {
   "codemirror_mode": {
    "name": "ipython",
    "version": 3
   },
   "file_extension": ".py",
   "mimetype": "text/x-python",
   "name": "python",
   "nbconvert_exporter": "python",
   "pygments_lexer": "ipython3",
   "version": "3.8.3"
  }
 },
 "nbformat": 4,
 "nbformat_minor": 4
}
