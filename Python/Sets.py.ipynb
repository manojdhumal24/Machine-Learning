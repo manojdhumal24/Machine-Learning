{
 "cells": [
  {
   "cell_type": "markdown",
   "metadata": {},
   "source": [
    "# Set Creation"
   ]
  },
  {
   "cell_type": "code",
   "execution_count": 6,
   "metadata": {},
   "outputs": [
    {
     "name": "stdout",
     "output_type": "stream",
     "text": [
      "{'hello', 2.0, (1, 2, 3)}\n"
     ]
    }
   ],
   "source": [
    "my_set = {2.0, \"hello\", (1,2,3), 2.0 }\n",
    "print(my_set)"
   ]
  },
  {
   "cell_type": "markdown",
   "metadata": {},
   "source": [
    "# Empty Sets or Dictionary"
   ]
  },
  {
   "cell_type": "code",
   "execution_count": 13,
   "metadata": {},
   "outputs": [
    {
     "name": "stdout",
     "output_type": "stream",
     "text": [
      "<class 'dict'>\n"
     ]
    }
   ],
   "source": [
    "my_set = {}\n",
    "print(type(my_set))"
   ]
  },
  {
   "cell_type": "code",
   "execution_count": 10,
   "metadata": {},
   "outputs": [
    {
     "name": "stdout",
     "output_type": "stream",
     "text": [
      "<class 'tuple'>\n"
     ]
    }
   ],
   "source": [
    "my_set = ()\n",
    "print(type(my_set))"
   ]
  },
  {
   "cell_type": "code",
   "execution_count": 12,
   "metadata": {},
   "outputs": [
    {
     "name": "stdout",
     "output_type": "stream",
     "text": [
      "<class 'set'>\n"
     ]
    }
   ],
   "source": [
    "my_set = set()\n",
    "print(type(my_set))"
   ]
  },
  {
   "cell_type": "code",
   "execution_count": 14,
   "metadata": {},
   "outputs": [
    {
     "name": "stdout",
     "output_type": "stream",
     "text": [
      "{'Machine Learning', 'Deep Learning', 'Computer Vision'}\n"
     ]
    }
   ],
   "source": [
    "set_courses = {\"Machine Learning\", \"Computer Vision\", \"Deep Learning\"}\n",
    "print(set_courses)"
   ]
  },
  {
   "cell_type": "markdown",
   "metadata": {},
   "source": [
    "# Sets Adding Updating"
   ]
  },
  {
   "cell_type": "code",
   "execution_count": 18,
   "metadata": {},
   "outputs": [
    {
     "name": "stdout",
     "output_type": "stream",
     "text": [
      "{'Machine Learning', 'Deep Learning', 'Computer Vision'}\n",
      "{'Machine Learning', 'Deep Learning', 'AWS', 'Computer Vision'}\n"
     ]
    }
   ],
   "source": [
    "set_courses = {\"Machine Learning\", \"Computer Vision\", \"Deep Learning\"}\n",
    "print(set_courses)\n",
    "set_courses.add(\"AWS\")\n",
    "print(set_courses)"
   ]
  },
  {
   "cell_type": "code",
   "execution_count": 21,
   "metadata": {},
   "outputs": [
    {
     "name": "stdout",
     "output_type": "stream",
     "text": [
      "{'Machine Learning', 'Deep Learning', 'Computer Vision'}\n",
      "{'Machine Learning', 'Deep Learning', 'AWS', 'Computer Vision'}\n",
      "{'Deep Learning', 'Machine Learning', 'AZURE', 'Cloud Computing', 'AWS', 'MATLAB', 'Computer Vision'}\n"
     ]
    }
   ],
   "source": [
    "set_courses = {\"Machine Learning\", \"Computer Vision\", \"Deep Learning\"}\n",
    "print(set_courses)\n",
    "set_courses.add(\"AWS\")\n",
    "print(set_courses)\n",
    "set_courses.update([\"MATLAB\",\"AZURE\",\"Cloud Computing\"])\n",
    "print(set_courses)"
   ]
  },
  {
   "cell_type": "markdown",
   "metadata": {},
   "source": [
    "# Removing Deleting Elements of the Sets"
   ]
  },
  {
   "cell_type": "code",
   "execution_count": 23,
   "metadata": {},
   "outputs": [
    {
     "name": "stdout",
     "output_type": "stream",
     "text": [
      "{'Machine Learning', 'Deep Learning', 'Computer Vision'}\n",
      "{'Machine Learning', 'Deep Learning', 'AWS', 'Computer Vision'}\n",
      "{'Deep Learning', 'Machine Learning', 'AZURE', 'Cloud Computing', 'AWS', 'MATLAB', 'Computer Vision'}\n",
      "{'Deep Learning', 'AZURE', 'Cloud Computing', 'AWS', 'MATLAB', 'Computer Vision'}\n"
     ]
    }
   ],
   "source": [
    "set_courses = {\"Machine Learning\", \"Computer Vision\", \"Deep Learning\"}\n",
    "print(set_courses)\n",
    "set_courses.add(\"AWS\")\n",
    "print(set_courses)\n",
    "set_courses.update([\"MATLAB\",\"AZURE\",\"Cloud Computing\"])\n",
    "print(set_courses)\n",
    "set_courses.discard(\"Machine Learning\") # (Using discard function)\n",
    "print(set_courses)"
   ]
  },
  {
   "cell_type": "code",
   "execution_count": 24,
   "metadata": {},
   "outputs": [
    {
     "name": "stdout",
     "output_type": "stream",
     "text": [
      "{'Machine Learning', 'Deep Learning', 'Computer Vision'}\n",
      "{'Machine Learning', 'Deep Learning', 'AWS', 'Computer Vision'}\n",
      "{'Deep Learning', 'Machine Learning', 'AZURE', 'Cloud Computing', 'AWS', 'MATLAB', 'Computer Vision'}\n",
      "{'Deep Learning', 'Machine Learning', 'AZURE', 'Cloud Computing', 'AWS', 'MATLAB', 'Computer Vision'}\n"
     ]
    }
   ],
   "source": [
    "set_courses = {\"Machine Learning\", \"Computer Vision\", \"Deep Learning\"}\n",
    "print(set_courses)\n",
    "set_courses.add(\"AWS\")\n",
    "print(set_courses)\n",
    "set_courses.update([\"MATLAB\",\"AZURE\",\"Cloud Computing\"])\n",
    "print(set_courses)\n",
    "set_courses.discard(\"Embedded Systems\") # (Using not present in set)\n",
    "print(set_courses)"
   ]
  },
  {
   "cell_type": "code",
   "execution_count": 25,
   "metadata": {},
   "outputs": [
    {
     "name": "stdout",
     "output_type": "stream",
     "text": [
      "{'Machine Learning', 'Deep Learning', 'Computer Vision'}\n",
      "{'Machine Learning', 'Deep Learning', 'AWS', 'Computer Vision'}\n",
      "{'Deep Learning', 'Machine Learning', 'AZURE', 'Cloud Computing', 'AWS', 'MATLAB', 'Computer Vision'}\n",
      "Deep Learning\n"
     ]
    }
   ],
   "source": [
    "set_courses = {\"Machine Learning\", \"Computer Vision\", \"Deep Learning\"}\n",
    "print(set_courses)\n",
    "set_courses.add(\"AWS\")\n",
    "print(set_courses)\n",
    "set_courses.update([\"MATLAB\",\"AZURE\",\"Cloud Computing\"])\n",
    "print(set_courses)\n",
    "X = set_courses.pop() # (Using Pop function)\n",
    "print(X)"
   ]
  },
  {
   "cell_type": "code",
   "execution_count": 26,
   "metadata": {},
   "outputs": [
    {
     "name": "stdout",
     "output_type": "stream",
     "text": [
      "{'Machine Learning', 'Deep Learning', 'Computer Vision'}\n",
      "{'Machine Learning', 'Deep Learning', 'AWS', 'Computer Vision'}\n",
      "{'Deep Learning', 'Machine Learning', 'AZURE', 'Cloud Computing', 'AWS', 'MATLAB', 'Computer Vision'}\n",
      "set()\n"
     ]
    }
   ],
   "source": [
    "set_courses = {\"Machine Learning\", \"Computer Vision\", \"Deep Learning\"}\n",
    "print(set_courses)\n",
    "set_courses.add(\"AWS\")\n",
    "print(set_courses)\n",
    "set_courses.update([\"MATLAB\",\"AZURE\",\"Cloud Computing\"])\n",
    "print(set_courses)\n",
    "set_courses.clear() # (Using clear function)\n",
    "print(set_courses)"
   ]
  },
  {
   "cell_type": "markdown",
   "metadata": {},
   "source": [
    "# Set Operation"
   ]
  },
  {
   "cell_type": "markdown",
   "metadata": {},
   "source": [
    "Union"
   ]
  },
  {
   "cell_type": "code",
   "execution_count": 28,
   "metadata": {},
   "outputs": [
    {
     "name": "stdout",
     "output_type": "stream",
     "text": [
      "{40, 10, 50, 20, 60, 30}\n"
     ]
    }
   ],
   "source": [
    "set1 = {10,20,30,40}\n",
    "set2 = {30,40,50,60}\n",
    "print(set1|set2)"
   ]
  },
  {
   "cell_type": "markdown",
   "metadata": {},
   "source": [
    "Intersection"
   ]
  },
  {
   "cell_type": "code",
   "execution_count": 31,
   "metadata": {},
   "outputs": [
    {
     "name": "stdout",
     "output_type": "stream",
     "text": [
      "{40, 30}\n"
     ]
    }
   ],
   "source": [
    "set1 = {10,20,30,40}\n",
    "set2 = {30,40,50,60}\n",
    "print(set1 & set2)"
   ]
  },
  {
   "cell_type": "markdown",
   "metadata": {},
   "source": [
    "Difference"
   ]
  },
  {
   "cell_type": "code",
   "execution_count": 32,
   "metadata": {},
   "outputs": [
    {
     "name": "stdout",
     "output_type": "stream",
     "text": [
      "{10, 20}\n"
     ]
    }
   ],
   "source": [
    "set1 = {10,20,30,40}\n",
    "set2 = {30,40,50,60}\n",
    "print(set1-set2)"
   ]
  },
  {
   "cell_type": "markdown",
   "metadata": {},
   "source": [
    "Symmetric Difference"
   ]
  },
  {
   "cell_type": "code",
   "execution_count": 33,
   "metadata": {},
   "outputs": [
    {
     "name": "stdout",
     "output_type": "stream",
     "text": [
      "{10, 50, 20, 60}\n"
     ]
    }
   ],
   "source": [
    "set1 = {10,20,30,40}\n",
    "set2 = {30,40,50,60}\n",
    "print(set1^set2)"
   ]
  },
  {
   "cell_type": "code",
   "execution_count": 46,
   "metadata": {},
   "outputs": [
    {
     "name": "stdout",
     "output_type": "stream",
     "text": [
      "True\n"
     ]
    }
   ],
   "source": [
    "set1= {1,2,3,4,5}\n",
    "print(1 in set1)"
   ]
  },
  {
   "cell_type": "code",
   "execution_count": 47,
   "metadata": {},
   "outputs": [
    {
     "name": "stdout",
     "output_type": "stream",
     "text": [
      "False\n"
     ]
    }
   ],
   "source": [
    "set1= {1,2,3,4,5}\n",
    "print(1 not in set1)"
   ]
  },
  {
   "cell_type": "code",
   "execution_count": 49,
   "metadata": {},
   "outputs": [
    {
     "name": "stdout",
     "output_type": "stream",
     "text": [
      "{40, 10, 50, 20, 30}\n",
      "{40, 10, 50, 20, 30}\n",
      "{40, 10, 50, 20, 30}\n",
      "{40, 10, 50, 20, 30}\n",
      "{40, 10, 50, 20, 30}\n"
     ]
    }
   ],
   "source": [
    "set1= {10,20,30,40,50}\n",
    "for s in set1:\n",
    "    print( set1)"
   ]
  },
  {
   "cell_type": "code",
   "execution_count": 50,
   "metadata": {},
   "outputs": [
    {
     "name": "stdout",
     "output_type": "stream",
     "text": [
      "40\n",
      "10\n",
      "50\n",
      "20\n",
      "30\n"
     ]
    }
   ],
   "source": [
    "set1= {10,20,30,40,50}\n",
    "for s in set1:\n",
    "    print(s)"
   ]
  },
  {
   "cell_type": "code",
   "execution_count": 51,
   "metadata": {},
   "outputs": [
    {
     "name": "stdout",
     "output_type": "stream",
     "text": [
      "{40, 10, 50, 20, 30}\n",
      "5\n",
      "{40, 10, 50, 20, 30}\n",
      "5\n",
      "{40, 10, 50, 20, 30}\n",
      "5\n",
      "{40, 10, 50, 20, 30}\n",
      "5\n",
      "{40, 10, 50, 20, 30}\n",
      "5\n"
     ]
    }
   ],
   "source": [
    "set1= {10,20,30,40,50}\n",
    "for s in set1:\n",
    "    print( set1)\n",
    "    print(len(set1))"
   ]
  },
  {
   "cell_type": "code",
   "execution_count": 52,
   "metadata": {},
   "outputs": [
    {
     "name": "stdout",
     "output_type": "stream",
     "text": [
      "(1, 2, 3, 4)\n"
     ]
    }
   ],
   "source": [
    "set1=((1,2,3,4))\n",
    "print(set1)\n"
   ]
  },
  {
   "cell_type": "code",
   "execution_count": 54,
   "metadata": {},
   "outputs": [
    {
     "name": "stdout",
     "output_type": "stream",
     "text": [
      "[1, 2, 3, 4]\n"
     ]
    }
   ],
   "source": [
    "set1=([1,2,3,4])\n",
    "print(set1)"
   ]
  },
  {
   "cell_type": "code",
   "execution_count": 56,
   "metadata": {},
   "outputs": [
    {
     "name": "stdout",
     "output_type": "stream",
     "text": [
      "4\n"
     ]
    }
   ],
   "source": [
    "nums = set([1,1,2,2,3,3,4,4])\n",
    "print(len(nums))"
   ]
  },
  {
   "cell_type": "code",
   "execution_count": 57,
   "metadata": {},
   "outputs": [
    {
     "name": "stdout",
     "output_type": "stream",
     "text": [
      "{8, 5, 6, 7}\n"
     ]
    }
   ],
   "source": [
    "a={5,6,7,8}\n",
    "print(a)"
   ]
  },
  {
   "cell_type": "code",
   "execution_count": 58,
   "metadata": {},
   "outputs": [
    {
     "name": "stdout",
     "output_type": "stream",
     "text": [
      "4\n"
     ]
    }
   ],
   "source": [
    "a={5,6,7,8}\n",
    "print(len(a))"
   ]
  },
  {
   "cell_type": "code",
   "execution_count": 59,
   "metadata": {},
   "outputs": [
    {
     "name": "stdout",
     "output_type": "stream",
     "text": [
      "5\n"
     ]
    }
   ],
   "source": [
    "a={5,6,7,8}\n",
    "print(min(a))"
   ]
  },
  {
   "cell_type": "code",
   "execution_count": 60,
   "metadata": {},
   "outputs": [
    {
     "name": "stdout",
     "output_type": "stream",
     "text": [
      "{8, 6, 7}\n"
     ]
    }
   ],
   "source": [
    "a={5,6,7,8}\n",
    "a.remove(5)\n",
    "print(a)"
   ]
  },
  {
   "cell_type": "code",
   "execution_count": 64,
   "metadata": {},
   "outputs": [
    {
     "name": "stdout",
     "output_type": "stream",
     "text": [
      "{4, 5}\n"
     ]
    }
   ],
   "source": [
    "a={4,5,6}\n",
    "b={2,8,6}\n",
    "print(a-b)"
   ]
  },
  {
   "cell_type": "code",
   "execution_count": 65,
   "metadata": {},
   "outputs": [
    {
     "name": "stdout",
     "output_type": "stream",
     "text": [
      "{5, 6, 10, 11}\n"
     ]
    }
   ],
   "source": [
    "a={5,6,7,8}\n",
    "b={7,8,10,11}\n",
    "print(a^b)"
   ]
  },
  {
   "cell_type": "code",
   "execution_count": 69,
   "metadata": {},
   "outputs": [
    {
     "data": {
      "text/plain": [
       "{3, 4, 5, 6, 7}"
      ]
     },
     "execution_count": 69,
     "metadata": {},
     "output_type": "execute_result"
    }
   ],
   "source": [
    "a = {3,4,5}\n",
    "b = {5,6,7}\n",
    "a|b"
   ]
  },
  {
   "cell_type": "code",
   "execution_count": null,
   "metadata": {},
   "outputs": [],
   "source": []
  }
 ],
 "metadata": {
  "kernelspec": {
   "display_name": "Python 3",
   "language": "python",
   "name": "python3"
  },
  "language_info": {
   "codemirror_mode": {
    "name": "ipython",
    "version": 3
   },
   "file_extension": ".py",
   "mimetype": "text/x-python",
   "name": "python",
   "nbconvert_exporter": "python",
   "pygments_lexer": "ipython3",
   "version": "3.8.3"
  }
 },
 "nbformat": 4,
 "nbformat_minor": 4
}
