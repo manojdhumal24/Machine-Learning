{
  "nbformat": 4,
  "nbformat_minor": 0,
  "metadata": {
    "colab": {
      "name": "heartdisease.ipynb",
      "provenance": [],
      "authorship_tag": "ABX9TyMO0p/O1oAxvFXfzJJj9OtL",
      "include_colab_link": true
    },
    "kernelspec": {
      "name": "python3",
      "display_name": "Python 3"
    }
  },
  "cells": [
    {
      "cell_type": "markdown",
      "metadata": {
        "id": "view-in-github",
        "colab_type": "text"
      },
      "source": [
        "<a href=\"https://colab.research.google.com/github/manojdhumal24/Machine-Learning/blob/master/heartdisease.ipynb\" target=\"_parent\"><img src=\"https://colab.research.google.com/assets/colab-badge.svg\" alt=\"Open In Colab\"/></a>"
      ]
    },
    {
      "cell_type": "code",
      "metadata": {
        "id": "IOaWrxctoBu_"
      },
      "source": [
        "# Import all the tools we need\r\n",
        "\r\n",
        "# Regular EDA (exploratory data analysis) and plotting libraries\r\n",
        "import numpy as np\r\n",
        "import pandas as pd\r\n",
        "import matplotlib.pyplot as plt\r\n",
        "import seaborn as sns\r\n",
        "\r\n",
        "# we want our plots to appear inside the notebook\r\n",
        "%matplotlib inline\r\n",
        "\r\n",
        "# Models from Scikit-Learn\r\n",
        "from sklearn.linear_model import LogisticRegression\r\n",
        "from sklearn.neighbors import KNeighborsClassifier\r\n",
        "from sklearn.ensemble import RandomForestClassifier\r\n",
        "\r\n",
        "# Model Evaluations\r\n",
        "from sklearn.model_selection import train_test_split, cross_val_score\r\n",
        "from sklearn.model_selection import RandomizedSearchCV, GridSearchCV\r\n",
        "from sklearn.metrics import confusion_matrix, classification_report\r\n",
        "from sklearn.metrics import precision_score, recall_score, f1_score\r\n",
        "from sklearn.metrics import plot_roc_curve"
      ],
      "execution_count": 6,
      "outputs": []
    },
    {
      "cell_type": "code",
      "metadata": {
        "id": "WJYlwDdAp5X-"
      },
      "source": [
        ""
      ],
      "execution_count": 14,
      "outputs": []
    },
    {
      "cell_type": "code",
      "metadata": {
        "id": "JwplUXbDp-hR"
      },
      "source": [
        "df = pd.read_csv(\"heart.csv\")\r\n",
        "\r\n"
      ],
      "execution_count": 12,
      "outputs": []
    },
    {
      "cell_type": "code",
      "metadata": {
        "colab": {
          "base_uri": "https://localhost:8080/"
        },
        "id": "L5jZNsYVrX1Y",
        "outputId": "28589373-633b-45e8-a59a-efce9ffaa25e"
      },
      "source": [
        "df.shape # (rows, columns)"
      ],
      "execution_count": 13,
      "outputs": [
        {
          "output_type": "execute_result",
          "data": {
            "text/plain": [
              "(303, 14)"
            ]
          },
          "metadata": {
            "tags": []
          },
          "execution_count": 13
        }
      ]
    },
    {
      "cell_type": "code",
      "metadata": {
        "colab": {
          "base_uri": "https://localhost:8080/",
          "height": 195
        },
        "id": "-ppe1mBmzzo3",
        "outputId": "98dde0d3-fad7-4bf8-9934-ab46d2fcbcc8"
      },
      "source": [
        "df.head()"
      ],
      "execution_count": 15,
      "outputs": [
        {
          "output_type": "execute_result",
          "data": {
            "text/html": [
              "<div>\n",
              "<style scoped>\n",
              "    .dataframe tbody tr th:only-of-type {\n",
              "        vertical-align: middle;\n",
              "    }\n",
              "\n",
              "    .dataframe tbody tr th {\n",
              "        vertical-align: top;\n",
              "    }\n",
              "\n",
              "    .dataframe thead th {\n",
              "        text-align: right;\n",
              "    }\n",
              "</style>\n",
              "<table border=\"1\" class=\"dataframe\">\n",
              "  <thead>\n",
              "    <tr style=\"text-align: right;\">\n",
              "      <th></th>\n",
              "      <th>age</th>\n",
              "      <th>sex</th>\n",
              "      <th>cp</th>\n",
              "      <th>trestbps</th>\n",
              "      <th>chol</th>\n",
              "      <th>fbs</th>\n",
              "      <th>restecg</th>\n",
              "      <th>thalach</th>\n",
              "      <th>exang</th>\n",
              "      <th>oldpeak</th>\n",
              "      <th>slope</th>\n",
              "      <th>ca</th>\n",
              "      <th>thal</th>\n",
              "      <th>target</th>\n",
              "    </tr>\n",
              "  </thead>\n",
              "  <tbody>\n",
              "    <tr>\n",
              "      <th>0</th>\n",
              "      <td>63</td>\n",
              "      <td>1</td>\n",
              "      <td>3</td>\n",
              "      <td>145</td>\n",
              "      <td>233</td>\n",
              "      <td>1</td>\n",
              "      <td>0</td>\n",
              "      <td>150</td>\n",
              "      <td>0</td>\n",
              "      <td>2.3</td>\n",
              "      <td>0</td>\n",
              "      <td>0</td>\n",
              "      <td>1</td>\n",
              "      <td>1</td>\n",
              "    </tr>\n",
              "    <tr>\n",
              "      <th>1</th>\n",
              "      <td>37</td>\n",
              "      <td>1</td>\n",
              "      <td>2</td>\n",
              "      <td>130</td>\n",
              "      <td>250</td>\n",
              "      <td>0</td>\n",
              "      <td>1</td>\n",
              "      <td>187</td>\n",
              "      <td>0</td>\n",
              "      <td>3.5</td>\n",
              "      <td>0</td>\n",
              "      <td>0</td>\n",
              "      <td>2</td>\n",
              "      <td>1</td>\n",
              "    </tr>\n",
              "    <tr>\n",
              "      <th>2</th>\n",
              "      <td>41</td>\n",
              "      <td>0</td>\n",
              "      <td>1</td>\n",
              "      <td>130</td>\n",
              "      <td>204</td>\n",
              "      <td>0</td>\n",
              "      <td>0</td>\n",
              "      <td>172</td>\n",
              "      <td>0</td>\n",
              "      <td>1.4</td>\n",
              "      <td>2</td>\n",
              "      <td>0</td>\n",
              "      <td>2</td>\n",
              "      <td>1</td>\n",
              "    </tr>\n",
              "    <tr>\n",
              "      <th>3</th>\n",
              "      <td>56</td>\n",
              "      <td>1</td>\n",
              "      <td>1</td>\n",
              "      <td>120</td>\n",
              "      <td>236</td>\n",
              "      <td>0</td>\n",
              "      <td>1</td>\n",
              "      <td>178</td>\n",
              "      <td>0</td>\n",
              "      <td>0.8</td>\n",
              "      <td>2</td>\n",
              "      <td>0</td>\n",
              "      <td>2</td>\n",
              "      <td>1</td>\n",
              "    </tr>\n",
              "    <tr>\n",
              "      <th>4</th>\n",
              "      <td>57</td>\n",
              "      <td>0</td>\n",
              "      <td>0</td>\n",
              "      <td>120</td>\n",
              "      <td>354</td>\n",
              "      <td>0</td>\n",
              "      <td>1</td>\n",
              "      <td>163</td>\n",
              "      <td>1</td>\n",
              "      <td>0.6</td>\n",
              "      <td>2</td>\n",
              "      <td>0</td>\n",
              "      <td>2</td>\n",
              "      <td>1</td>\n",
              "    </tr>\n",
              "  </tbody>\n",
              "</table>\n",
              "</div>"
            ],
            "text/plain": [
              "   age  sex  cp  trestbps  chol  fbs  ...  exang  oldpeak  slope  ca  thal  target\n",
              "0   63    1   3       145   233    1  ...      0      2.3      0   0     1       1\n",
              "1   37    1   2       130   250    0  ...      0      3.5      0   0     2       1\n",
              "2   41    0   1       130   204    0  ...      0      1.4      2   0     2       1\n",
              "3   56    1   1       120   236    0  ...      0      0.8      2   0     2       1\n",
              "4   57    0   0       120   354    0  ...      1      0.6      2   0     2       1\n",
              "\n",
              "[5 rows x 14 columns]"
            ]
          },
          "metadata": {
            "tags": []
          },
          "execution_count": 15
        }
      ]
    },
    {
      "cell_type": "code",
      "metadata": {
        "colab": {
          "base_uri": "https://localhost:8080/",
          "height": 195
        },
        "id": "sNDx5Qbb0OJt",
        "outputId": "1693c50f-e2ca-442f-cfc8-edcfb8201269"
      },
      "source": [
        "df.sample(5)"
      ],
      "execution_count": 17,
      "outputs": [
        {
          "output_type": "execute_result",
          "data": {
            "text/html": [
              "<div>\n",
              "<style scoped>\n",
              "    .dataframe tbody tr th:only-of-type {\n",
              "        vertical-align: middle;\n",
              "    }\n",
              "\n",
              "    .dataframe tbody tr th {\n",
              "        vertical-align: top;\n",
              "    }\n",
              "\n",
              "    .dataframe thead th {\n",
              "        text-align: right;\n",
              "    }\n",
              "</style>\n",
              "<table border=\"1\" class=\"dataframe\">\n",
              "  <thead>\n",
              "    <tr style=\"text-align: right;\">\n",
              "      <th></th>\n",
              "      <th>age</th>\n",
              "      <th>sex</th>\n",
              "      <th>cp</th>\n",
              "      <th>trestbps</th>\n",
              "      <th>chol</th>\n",
              "      <th>fbs</th>\n",
              "      <th>restecg</th>\n",
              "      <th>thalach</th>\n",
              "      <th>exang</th>\n",
              "      <th>oldpeak</th>\n",
              "      <th>slope</th>\n",
              "      <th>ca</th>\n",
              "      <th>thal</th>\n",
              "      <th>target</th>\n",
              "    </tr>\n",
              "  </thead>\n",
              "  <tbody>\n",
              "    <tr>\n",
              "      <th>35</th>\n",
              "      <td>46</td>\n",
              "      <td>0</td>\n",
              "      <td>2</td>\n",
              "      <td>142</td>\n",
              "      <td>177</td>\n",
              "      <td>0</td>\n",
              "      <td>0</td>\n",
              "      <td>160</td>\n",
              "      <td>1</td>\n",
              "      <td>1.4</td>\n",
              "      <td>0</td>\n",
              "      <td>0</td>\n",
              "      <td>2</td>\n",
              "      <td>1</td>\n",
              "    </tr>\n",
              "    <tr>\n",
              "      <th>76</th>\n",
              "      <td>51</td>\n",
              "      <td>1</td>\n",
              "      <td>2</td>\n",
              "      <td>125</td>\n",
              "      <td>245</td>\n",
              "      <td>1</td>\n",
              "      <td>0</td>\n",
              "      <td>166</td>\n",
              "      <td>0</td>\n",
              "      <td>2.4</td>\n",
              "      <td>1</td>\n",
              "      <td>0</td>\n",
              "      <td>2</td>\n",
              "      <td>1</td>\n",
              "    </tr>\n",
              "    <tr>\n",
              "      <th>298</th>\n",
              "      <td>57</td>\n",
              "      <td>0</td>\n",
              "      <td>0</td>\n",
              "      <td>140</td>\n",
              "      <td>241</td>\n",
              "      <td>0</td>\n",
              "      <td>1</td>\n",
              "      <td>123</td>\n",
              "      <td>1</td>\n",
              "      <td>0.2</td>\n",
              "      <td>1</td>\n",
              "      <td>0</td>\n",
              "      <td>3</td>\n",
              "      <td>0</td>\n",
              "    </tr>\n",
              "    <tr>\n",
              "      <th>243</th>\n",
              "      <td>57</td>\n",
              "      <td>1</td>\n",
              "      <td>0</td>\n",
              "      <td>152</td>\n",
              "      <td>274</td>\n",
              "      <td>0</td>\n",
              "      <td>1</td>\n",
              "      <td>88</td>\n",
              "      <td>1</td>\n",
              "      <td>1.2</td>\n",
              "      <td>1</td>\n",
              "      <td>1</td>\n",
              "      <td>3</td>\n",
              "      <td>0</td>\n",
              "    </tr>\n",
              "    <tr>\n",
              "      <th>158</th>\n",
              "      <td>58</td>\n",
              "      <td>1</td>\n",
              "      <td>1</td>\n",
              "      <td>125</td>\n",
              "      <td>220</td>\n",
              "      <td>0</td>\n",
              "      <td>1</td>\n",
              "      <td>144</td>\n",
              "      <td>0</td>\n",
              "      <td>0.4</td>\n",
              "      <td>1</td>\n",
              "      <td>4</td>\n",
              "      <td>3</td>\n",
              "      <td>1</td>\n",
              "    </tr>\n",
              "  </tbody>\n",
              "</table>\n",
              "</div>"
            ],
            "text/plain": [
              "     age  sex  cp  trestbps  chol  fbs  ...  exang  oldpeak  slope  ca  thal  target\n",
              "35    46    0   2       142   177    0  ...      1      1.4      0   0     2       1\n",
              "76    51    1   2       125   245    1  ...      0      2.4      1   0     2       1\n",
              "298   57    0   0       140   241    0  ...      1      0.2      1   0     3       0\n",
              "243   57    1   0       152   274    0  ...      1      1.2      1   1     3       0\n",
              "158   58    1   1       125   220    0  ...      0      0.4      1   4     3       1\n",
              "\n",
              "[5 rows x 14 columns]"
            ]
          },
          "metadata": {
            "tags": []
          },
          "execution_count": 17
        }
      ]
    },
    {
      "cell_type": "code",
      "metadata": {
        "colab": {
          "base_uri": "https://localhost:8080/",
          "height": 284
        },
        "id": "zkMcRUNj0bmP",
        "outputId": "d8b22e6c-1a44-47c5-d5fa-ae7e8b6c3aaf"
      },
      "source": [
        "df.describe()"
      ],
      "execution_count": 18,
      "outputs": [
        {
          "output_type": "execute_result",
          "data": {
            "text/html": [
              "<div>\n",
              "<style scoped>\n",
              "    .dataframe tbody tr th:only-of-type {\n",
              "        vertical-align: middle;\n",
              "    }\n",
              "\n",
              "    .dataframe tbody tr th {\n",
              "        vertical-align: top;\n",
              "    }\n",
              "\n",
              "    .dataframe thead th {\n",
              "        text-align: right;\n",
              "    }\n",
              "</style>\n",
              "<table border=\"1\" class=\"dataframe\">\n",
              "  <thead>\n",
              "    <tr style=\"text-align: right;\">\n",
              "      <th></th>\n",
              "      <th>age</th>\n",
              "      <th>sex</th>\n",
              "      <th>cp</th>\n",
              "      <th>trestbps</th>\n",
              "      <th>chol</th>\n",
              "      <th>fbs</th>\n",
              "      <th>restecg</th>\n",
              "      <th>thalach</th>\n",
              "      <th>exang</th>\n",
              "      <th>oldpeak</th>\n",
              "      <th>slope</th>\n",
              "      <th>ca</th>\n",
              "      <th>thal</th>\n",
              "      <th>target</th>\n",
              "    </tr>\n",
              "  </thead>\n",
              "  <tbody>\n",
              "    <tr>\n",
              "      <th>count</th>\n",
              "      <td>303.000000</td>\n",
              "      <td>303.000000</td>\n",
              "      <td>303.000000</td>\n",
              "      <td>303.000000</td>\n",
              "      <td>303.000000</td>\n",
              "      <td>303.000000</td>\n",
              "      <td>303.000000</td>\n",
              "      <td>303.000000</td>\n",
              "      <td>303.000000</td>\n",
              "      <td>303.000000</td>\n",
              "      <td>303.000000</td>\n",
              "      <td>303.000000</td>\n",
              "      <td>303.000000</td>\n",
              "      <td>303.000000</td>\n",
              "    </tr>\n",
              "    <tr>\n",
              "      <th>mean</th>\n",
              "      <td>54.366337</td>\n",
              "      <td>0.683168</td>\n",
              "      <td>0.966997</td>\n",
              "      <td>131.623762</td>\n",
              "      <td>246.264026</td>\n",
              "      <td>0.148515</td>\n",
              "      <td>0.528053</td>\n",
              "      <td>149.646865</td>\n",
              "      <td>0.326733</td>\n",
              "      <td>1.039604</td>\n",
              "      <td>1.399340</td>\n",
              "      <td>0.729373</td>\n",
              "      <td>2.313531</td>\n",
              "      <td>0.544554</td>\n",
              "    </tr>\n",
              "    <tr>\n",
              "      <th>std</th>\n",
              "      <td>9.082101</td>\n",
              "      <td>0.466011</td>\n",
              "      <td>1.032052</td>\n",
              "      <td>17.538143</td>\n",
              "      <td>51.830751</td>\n",
              "      <td>0.356198</td>\n",
              "      <td>0.525860</td>\n",
              "      <td>22.905161</td>\n",
              "      <td>0.469794</td>\n",
              "      <td>1.161075</td>\n",
              "      <td>0.616226</td>\n",
              "      <td>1.022606</td>\n",
              "      <td>0.612277</td>\n",
              "      <td>0.498835</td>\n",
              "    </tr>\n",
              "    <tr>\n",
              "      <th>min</th>\n",
              "      <td>29.000000</td>\n",
              "      <td>0.000000</td>\n",
              "      <td>0.000000</td>\n",
              "      <td>94.000000</td>\n",
              "      <td>126.000000</td>\n",
              "      <td>0.000000</td>\n",
              "      <td>0.000000</td>\n",
              "      <td>71.000000</td>\n",
              "      <td>0.000000</td>\n",
              "      <td>0.000000</td>\n",
              "      <td>0.000000</td>\n",
              "      <td>0.000000</td>\n",
              "      <td>0.000000</td>\n",
              "      <td>0.000000</td>\n",
              "    </tr>\n",
              "    <tr>\n",
              "      <th>25%</th>\n",
              "      <td>47.500000</td>\n",
              "      <td>0.000000</td>\n",
              "      <td>0.000000</td>\n",
              "      <td>120.000000</td>\n",
              "      <td>211.000000</td>\n",
              "      <td>0.000000</td>\n",
              "      <td>0.000000</td>\n",
              "      <td>133.500000</td>\n",
              "      <td>0.000000</td>\n",
              "      <td>0.000000</td>\n",
              "      <td>1.000000</td>\n",
              "      <td>0.000000</td>\n",
              "      <td>2.000000</td>\n",
              "      <td>0.000000</td>\n",
              "    </tr>\n",
              "    <tr>\n",
              "      <th>50%</th>\n",
              "      <td>55.000000</td>\n",
              "      <td>1.000000</td>\n",
              "      <td>1.000000</td>\n",
              "      <td>130.000000</td>\n",
              "      <td>240.000000</td>\n",
              "      <td>0.000000</td>\n",
              "      <td>1.000000</td>\n",
              "      <td>153.000000</td>\n",
              "      <td>0.000000</td>\n",
              "      <td>0.800000</td>\n",
              "      <td>1.000000</td>\n",
              "      <td>0.000000</td>\n",
              "      <td>2.000000</td>\n",
              "      <td>1.000000</td>\n",
              "    </tr>\n",
              "    <tr>\n",
              "      <th>75%</th>\n",
              "      <td>61.000000</td>\n",
              "      <td>1.000000</td>\n",
              "      <td>2.000000</td>\n",
              "      <td>140.000000</td>\n",
              "      <td>274.500000</td>\n",
              "      <td>0.000000</td>\n",
              "      <td>1.000000</td>\n",
              "      <td>166.000000</td>\n",
              "      <td>1.000000</td>\n",
              "      <td>1.600000</td>\n",
              "      <td>2.000000</td>\n",
              "      <td>1.000000</td>\n",
              "      <td>3.000000</td>\n",
              "      <td>1.000000</td>\n",
              "    </tr>\n",
              "    <tr>\n",
              "      <th>max</th>\n",
              "      <td>77.000000</td>\n",
              "      <td>1.000000</td>\n",
              "      <td>3.000000</td>\n",
              "      <td>200.000000</td>\n",
              "      <td>564.000000</td>\n",
              "      <td>1.000000</td>\n",
              "      <td>2.000000</td>\n",
              "      <td>202.000000</td>\n",
              "      <td>1.000000</td>\n",
              "      <td>6.200000</td>\n",
              "      <td>2.000000</td>\n",
              "      <td>4.000000</td>\n",
              "      <td>3.000000</td>\n",
              "      <td>1.000000</td>\n",
              "    </tr>\n",
              "  </tbody>\n",
              "</table>\n",
              "</div>"
            ],
            "text/plain": [
              "              age         sex          cp  ...          ca        thal      target\n",
              "count  303.000000  303.000000  303.000000  ...  303.000000  303.000000  303.000000\n",
              "mean    54.366337    0.683168    0.966997  ...    0.729373    2.313531    0.544554\n",
              "std      9.082101    0.466011    1.032052  ...    1.022606    0.612277    0.498835\n",
              "min     29.000000    0.000000    0.000000  ...    0.000000    0.000000    0.000000\n",
              "25%     47.500000    0.000000    0.000000  ...    0.000000    2.000000    0.000000\n",
              "50%     55.000000    1.000000    1.000000  ...    0.000000    2.000000    1.000000\n",
              "75%     61.000000    1.000000    2.000000  ...    1.000000    3.000000    1.000000\n",
              "max     77.000000    1.000000    3.000000  ...    4.000000    3.000000    1.000000\n",
              "\n",
              "[8 rows x 14 columns]"
            ]
          },
          "metadata": {
            "tags": []
          },
          "execution_count": 18
        }
      ]
    },
    {
      "cell_type": "code",
      "metadata": {
        "colab": {
          "base_uri": "https://localhost:8080/"
        },
        "id": "Hll6jC470qc8",
        "outputId": "091bb9fb-7e27-4f0a-c53c-151c03fe053c"
      },
      "source": [
        "df.info()"
      ],
      "execution_count": 19,
      "outputs": [
        {
          "output_type": "stream",
          "text": [
            "<class 'pandas.core.frame.DataFrame'>\n",
            "RangeIndex: 303 entries, 0 to 302\n",
            "Data columns (total 14 columns):\n",
            " #   Column    Non-Null Count  Dtype  \n",
            "---  ------    --------------  -----  \n",
            " 0   age       303 non-null    int64  \n",
            " 1   sex       303 non-null    int64  \n",
            " 2   cp        303 non-null    int64  \n",
            " 3   trestbps  303 non-null    int64  \n",
            " 4   chol      303 non-null    int64  \n",
            " 5   fbs       303 non-null    int64  \n",
            " 6   restecg   303 non-null    int64  \n",
            " 7   thalach   303 non-null    int64  \n",
            " 8   exang     303 non-null    int64  \n",
            " 9   oldpeak   303 non-null    float64\n",
            " 10  slope     303 non-null    int64  \n",
            " 11  ca        303 non-null    int64  \n",
            " 12  thal      303 non-null    int64  \n",
            " 13  target    303 non-null    int64  \n",
            "dtypes: float64(1), int64(13)\n",
            "memory usage: 33.3 KB\n"
          ],
          "name": "stdout"
        }
      ]
    },
    {
      "cell_type": "code",
      "metadata": {
        "colab": {
          "base_uri": "https://localhost:8080/"
        },
        "id": "HVXz2hgO0t3p",
        "outputId": "b07a8299-99bc-4075-ff70-c807d749f825"
      },
      "source": [
        "\r\n",
        "info = [\"age\",\"1: male, 0: female\",\"chest pain type, 1: typical angina, 2: atypical angina, 3: non-anginal pain, 4: asymptomatic\",\"resting blood pressure\",\" serum cholestoral in mg/dl\",\"fasting blood sugar > 120 mg/dl\",\"resting electrocardiographic results (values 0,1,2)\",\" maximum heart rate achieved\",\"exercise induced angina\",\"oldpeak = ST depression induced by exercise relative to rest\",\"the slope of the peak exercise ST segment\",\"number of major vessels (0-3) colored by flourosopy\",\"thal: 3 = normal; 6 = fixed defect; 7 = reversable defect\"]\r\n",
        "for i in range(len(info)):\r\n",
        "    print(df.columns[i]+\":\\t\\t\\t\"+info[i])"
      ],
      "execution_count": 23,
      "outputs": [
        {
          "output_type": "stream",
          "text": [
            "age:\t\t\tage\n",
            "sex:\t\t\t1: male, 0: female\n",
            "cp:\t\t\tchest pain type, 1: typical angina, 2: atypical angina, 3: non-anginal pain, 4: asymptomatic\n",
            "trestbps:\t\t\tresting blood pressure\n",
            "chol:\t\t\t serum cholestoral in mg/dl\n",
            "fbs:\t\t\tfasting blood sugar > 120 mg/dl\n",
            "restecg:\t\t\tresting electrocardiographic results (values 0,1,2)\n",
            "thalach:\t\t\t maximum heart rate achieved\n",
            "exang:\t\t\texercise induced angina\n",
            "oldpeak:\t\t\toldpeak = ST depression induced by exercise relative to rest\n",
            "slope:\t\t\tthe slope of the peak exercise ST segment\n",
            "ca:\t\t\tnumber of major vessels (0-3) colored by flourosopy\n",
            "thal:\t\t\tthal: 3 = normal; 6 = fixed defect; 7 = reversable defect\n"
          ],
          "name": "stdout"
        }
      ]
    },
    {
      "cell_type": "code",
      "metadata": {
        "colab": {
          "base_uri": "https://localhost:8080/"
        },
        "id": "l2r3CUCM0x7G",
        "outputId": "f3650876-1b1e-480f-94c1-05114d0f76b8"
      },
      "source": [
        "df[\"target\"].describe()\r\n"
      ],
      "execution_count": 24,
      "outputs": [
        {
          "output_type": "execute_result",
          "data": {
            "text/plain": [
              "count    303.000000\n",
              "mean       0.544554\n",
              "std        0.498835\n",
              "min        0.000000\n",
              "25%        0.000000\n",
              "50%        1.000000\n",
              "75%        1.000000\n",
              "max        1.000000\n",
              "Name: target, dtype: float64"
            ]
          },
          "metadata": {
            "tags": []
          },
          "execution_count": 24
        }
      ]
    },
    {
      "cell_type": "code",
      "metadata": {
        "colab": {
          "base_uri": "https://localhost:8080/"
        },
        "id": "fMFQGs1N1EOB",
        "outputId": "4b4f3116-e9ef-40c0-d363-bafd34c2c8b1"
      },
      "source": [
        "df[\"target\"].unique()\r\n"
      ],
      "execution_count": 25,
      "outputs": [
        {
          "output_type": "execute_result",
          "data": {
            "text/plain": [
              "array([1, 0])"
            ]
          },
          "metadata": {
            "tags": []
          },
          "execution_count": 25
        }
      ]
    },
    {
      "cell_type": "code",
      "metadata": {
        "colab": {
          "base_uri": "https://localhost:8080/"
        },
        "id": "6MuvyMty1ITp",
        "outputId": "5fe7bfe0-319e-429a-8f99-53ebf5de511b"
      },
      "source": [
        "print(df.corr()[\"target\"].abs().sort_values(ascending=False))\r\n"
      ],
      "execution_count": 26,
      "outputs": [
        {
          "output_type": "stream",
          "text": [
            "target      1.000000\n",
            "exang       0.436757\n",
            "cp          0.433798\n",
            "oldpeak     0.430696\n",
            "thalach     0.421741\n",
            "ca          0.391724\n",
            "slope       0.345877\n",
            "thal        0.344029\n",
            "sex         0.280937\n",
            "age         0.225439\n",
            "trestbps    0.144931\n",
            "restecg     0.137230\n",
            "chol        0.085239\n",
            "fbs         0.028046\n",
            "Name: target, dtype: float64\n"
          ],
          "name": "stdout"
        }
      ]
    },
    {
      "cell_type": "code",
      "metadata": {
        "colab": {
          "base_uri": "https://localhost:8080/",
          "height": 330
        },
        "id": "SQnxww0Y1LWM",
        "outputId": "ed7b8709-6da4-4175-bcbf-1b36a546fff0"
      },
      "source": [
        "y = df[\"target\"]\r\n",
        "\r\n",
        "sns.countplot(y)\r\n",
        "\r\n",
        "\r\n",
        "target_temp = df.target.value_counts()\r\n",
        "\r\n",
        "print(target_temp)"
      ],
      "execution_count": 27,
      "outputs": [
        {
          "output_type": "stream",
          "text": [
            "1    165\n",
            "0    138\n",
            "Name: target, dtype: int64\n"
          ],
          "name": "stdout"
        },
        {
          "output_type": "display_data",
          "data": {
            "image/png": "[encoded data removed]",
            "text/plain": [
              "<Figure size 432x288 with 1 Axes>"
            ]
          },
          "metadata": {
            "tags": [],
            "needs_background": "light"
          }
        }
      ]
    },
    {
      "cell_type": "code",
      "metadata": {
        "colab": {
          "base_uri": "https://localhost:8080/"
        },
        "id": "3H1ZM1Cv1U0b",
        "outputId": "6d9b2760-89c7-472b-a565-7453b910073c"
      },
      "source": [
        "print(\"Percentage of patience without heart problems: \"+str(round(target_temp[0]*100/303,2)))\r\n",
        "print(\"Percentage of patience with heart problems: \"+str(round(target_temp[1]*100/303,2)))\r\n",
        "\r\n",
        "#Alternatively,\r\n",
        "# print(\"Percentage of patience with heart problems: \"+str(y.where(y==1).count()*100/303))\r\n",
        "# print(\"Percentage of patience with heart problems: \"+str(y.where(y==0).count()*100/303))\r\n",
        "\r\n",
        "# #Or,\r\n",
        "# countNoDisease = len(df[df.target == 0])\r\n",
        "# countHaveDisease = len(df[df.target == 1])"
      ],
      "execution_count": 28,
      "outputs": [
        {
          "output_type": "stream",
          "text": [
            "Percentage of patience without heart problems: 45.54\n",
            "Percentage of patience with heart problems: 54.46\n"
          ],
          "name": "stdout"
        }
      ]
    },
    {
      "cell_type": "code",
      "metadata": {
        "colab": {
          "base_uri": "https://localhost:8080/"
        },
        "id": "IvT7eH1z1Zd7",
        "outputId": "4fca4c9a-905f-480b-ab10-aecba4a1d109"
      },
      "source": [
        "df[\"sex\"].unique()\r\n"
      ],
      "execution_count": 29,
      "outputs": [
        {
          "output_type": "execute_result",
          "data": {
            "text/plain": [
              "array([1, 0])"
            ]
          },
          "metadata": {
            "tags": []
          },
          "execution_count": 29
        }
      ]
    },
    {
      "cell_type": "code",
      "metadata": {
        "colab": {
          "base_uri": "https://localhost:8080/",
          "height": 296
        },
        "id": "r5evOHdU1cvr",
        "outputId": "7d8e3ffd-4053-4539-ee0a-4003f5f0d80f"
      },
      "source": [
        "sns.barplot(df[\"sex\"],y)\r\n"
      ],
      "execution_count": 30,
      "outputs": [
        {
          "output_type": "execute_result",
          "data": {
            "text/plain": [
              "<matplotlib.axes._subplots.AxesSubplot at 0x7fa994efd080>"
            ]
          },
          "metadata": {
            "tags": []
          },
          "execution_count": 30
        },
        {
          "output_type": "display_data",
          "data": {
            "image/png": "[encoded data removed]",
            "text/plain": [
              "<Figure size 432x288 with 1 Axes>"
            ]
          },
          "metadata": {
            "tags": [],
            "needs_background": "light"
          }
        }
      ]
    },
    {
      "cell_type": "code",
      "metadata": {
        "colab": {
          "base_uri": "https://localhost:8080/"
        },
        "id": "Hw_YtplJ1gxm",
        "outputId": "386759e4-6d35-4a84-e08d-2cbb05ce5fc3"
      },
      "source": [
        "df[\"cp\"].unique()\r\n"
      ],
      "execution_count": 31,
      "outputs": [
        {
          "output_type": "execute_result",
          "data": {
            "text/plain": [
              "array([3, 2, 1, 0])"
            ]
          },
          "metadata": {
            "tags": []
          },
          "execution_count": 31
        }
      ]
    },
    {
      "cell_type": "code",
      "metadata": {
        "colab": {
          "base_uri": "https://localhost:8080/",
          "height": 296
        },
        "id": "hcHzdmwR1k8L",
        "outputId": "4ba8ebbd-5e61-4d27-cc21-ddf31dd5d202"
      },
      "source": [
        "sns.barplot(df[\"cp\"],y)\r\n"
      ],
      "execution_count": 32,
      "outputs": [
        {
          "output_type": "execute_result",
          "data": {
            "text/plain": [
              "<matplotlib.axes._subplots.AxesSubplot at 0x7fa994a230b8>"
            ]
          },
          "metadata": {
            "tags": []
          },
          "execution_count": 32
        },
        {
          "output_type": "display_data",
          "data": {
            "image/png": "[encoded data removed]",
            "text/plain": [
              "<Figure size 432x288 with 1 Axes>"
            ]
          },
          "metadata": {
            "tags": [],
            "needs_background": "light"
          }
        }
      ]
    },
    {
      "cell_type": "code",
      "metadata": {
        "colab": {
          "base_uri": "https://localhost:8080/"
        },
        "id": "21J_s62t1o1g",
        "outputId": "ad8819dd-b83f-4051-fcef-55841179687a"
      },
      "source": [
        "df[\"fbs\"].describe()\r\n"
      ],
      "execution_count": 33,
      "outputs": [
        {
          "output_type": "execute_result",
          "data": {
            "text/plain": [
              "count    303.000000\n",
              "mean       0.148515\n",
              "std        0.356198\n",
              "min        0.000000\n",
              "25%        0.000000\n",
              "50%        0.000000\n",
              "75%        0.000000\n",
              "max        1.000000\n",
              "Name: fbs, dtype: float64"
            ]
          },
          "metadata": {
            "tags": []
          },
          "execution_count": 33
        }
      ]
    },
    {
      "cell_type": "code",
      "metadata": {
        "colab": {
          "base_uri": "https://localhost:8080/"
        },
        "id": "JB5q4f0s1taU",
        "outputId": "2941c4dd-a29a-4474-b7d9-cb7adcc343c4"
      },
      "source": [
        "df[\"fbs\"].unique()\r\n"
      ],
      "execution_count": 34,
      "outputs": [
        {
          "output_type": "execute_result",
          "data": {
            "text/plain": [
              "array([1, 0])"
            ]
          },
          "metadata": {
            "tags": []
          },
          "execution_count": 34
        }
      ]
    },
    {
      "cell_type": "code",
      "metadata": {
        "colab": {
          "base_uri": "https://localhost:8080/",
          "height": 296
        },
        "id": "v2q8OmKz1xgB",
        "outputId": "0b0cab7f-236b-4a0b-cb6b-ba4a47806418"
      },
      "source": [
        "sns.barplot(df[\"fbs\"],y)\r\n"
      ],
      "execution_count": 35,
      "outputs": [
        {
          "output_type": "execute_result",
          "data": {
            "text/plain": [
              "<matplotlib.axes._subplots.AxesSubplot at 0x7fa994feb320>"
            ]
          },
          "metadata": {
            "tags": []
          },
          "execution_count": 35
        },
        {
          "output_type": "display_data",
          "data": {
            "image/png": "[encoded data removed]",
            "text/plain": [
              "<Figure size 432x288 with 1 Axes>"
            ]
          },
          "metadata": {
            "tags": [],
            "needs_background": "light"
          }
        }
      ]
    },
    {
      "cell_type": "code",
      "metadata": {
        "colab": {
          "base_uri": "https://localhost:8080/"
        },
        "id": "buj9o7XI11EY",
        "outputId": "73f550bd-0bd5-4a30-f1e1-d6345b03f2a4"
      },
      "source": [
        "df[\"restecg\"].unique()\r\n"
      ],
      "execution_count": 36,
      "outputs": [
        {
          "output_type": "execute_result",
          "data": {
            "text/plain": [
              "array([0, 1, 2])"
            ]
          },
          "metadata": {
            "tags": []
          },
          "execution_count": 36
        }
      ]
    },
    {
      "cell_type": "code",
      "metadata": {
        "colab": {
          "base_uri": "https://localhost:8080/"
        },
        "id": "0v63uhAy15g9",
        "outputId": "ddb86830-99a3-4225-f065-bb82466ed140"
      },
      "source": [
        "df[\"exang\"].unique()\r\n"
      ],
      "execution_count": 37,
      "outputs": [
        {
          "output_type": "execute_result",
          "data": {
            "text/plain": [
              "array([0, 1])"
            ]
          },
          "metadata": {
            "tags": []
          },
          "execution_count": 37
        }
      ]
    },
    {
      "cell_type": "code",
      "metadata": {
        "colab": {
          "base_uri": "https://localhost:8080/",
          "height": 296
        },
        "id": "lWtw7ANl180C",
        "outputId": "7fc4b9ef-f3ed-4b75-fe67-64b2d47e7461"
      },
      "source": [
        "sns.barplot(df[\"exang\"],y)\r\n"
      ],
      "execution_count": 38,
      "outputs": [
        {
          "output_type": "execute_result",
          "data": {
            "text/plain": [
              "<matplotlib.axes._subplots.AxesSubplot at 0x7fa994931978>"
            ]
          },
          "metadata": {
            "tags": []
          },
          "execution_count": 38
        },
        {
          "output_type": "display_data",
          "data": {
            "image/png": "[encoded data removed]",
            "text/plain": [
              "<Figure size 432x288 with 1 Axes>"
            ]
          },
          "metadata": {
            "tags": [],
            "needs_background": "light"
          }
        }
      ]
    },
    {
      "cell_type": "code",
      "metadata": {
        "colab": {
          "base_uri": "https://localhost:8080/"
        },
        "id": "Dt2EdACl2AJJ",
        "outputId": "c920c2b2-640a-4d04-c04c-4cb25031b1f8"
      },
      "source": [
        "df[\"slope\"].unique()\r\n"
      ],
      "execution_count": 39,
      "outputs": [
        {
          "output_type": "execute_result",
          "data": {
            "text/plain": [
              "array([0, 2, 1])"
            ]
          },
          "metadata": {
            "tags": []
          },
          "execution_count": 39
        }
      ]
    },
    {
      "cell_type": "code",
      "metadata": {
        "colab": {
          "base_uri": "https://localhost:8080/",
          "height": 296
        },
        "id": "Lkjlebn_2Eew",
        "outputId": "4af9aee9-8967-4c33-d327-9673313a51ea"
      },
      "source": [
        "sns.barplot(df[\"slope\"],y)\r\n"
      ],
      "execution_count": 40,
      "outputs": [
        {
          "output_type": "execute_result",
          "data": {
            "text/plain": [
              "<matplotlib.axes._subplots.AxesSubplot at 0x7fa994913198>"
            ]
          },
          "metadata": {
            "tags": []
          },
          "execution_count": 40
        },
        {
          "output_type": "display_data",
          "data": {
            "image/png": "[encoded data removed]",
            "text/plain": [
              "<Figure size 432x288 with 1 Axes>"
            ]
          },
          "metadata": {
            "tags": [],
            "needs_background": "light"
          }
        }
      ]
    },
    {
      "cell_type": "code",
      "metadata": {
        "colab": {
          "base_uri": "https://localhost:8080/"
        },
        "id": "nW_YG6rd2IoS",
        "outputId": "5180b3af-4799-47e1-c28f-2dc28ce51197"
      },
      "source": [
        "df[\"ca\"].unique()\r\n"
      ],
      "execution_count": 41,
      "outputs": [
        {
          "output_type": "execute_result",
          "data": {
            "text/plain": [
              "array([0, 2, 1, 3, 4])"
            ]
          },
          "metadata": {
            "tags": []
          },
          "execution_count": 41
        }
      ]
    },
    {
      "cell_type": "code",
      "metadata": {
        "colab": {
          "base_uri": "https://localhost:8080/",
          "height": 296
        },
        "id": "eLJNs1hc2Rjj",
        "outputId": "ccc26831-818a-405f-991f-cf317694c09b"
      },
      "source": [
        "sns.countplot(df[\"ca\"])\r\n"
      ],
      "execution_count": 42,
      "outputs": [
        {
          "output_type": "execute_result",
          "data": {
            "text/plain": [
              "<matplotlib.axes._subplots.AxesSubplot at 0x7fa99487acf8>"
            ]
          },
          "metadata": {
            "tags": []
          },
          "execution_count": 42
        },
        {
          "output_type": "display_data",
          "data": {
            "image/png": "[encoded data removed]",
            "text/plain": [
              "<Figure size 432x288 with 1 Axes>"
            ]
          },
          "metadata": {
            "tags": [],
            "needs_background": "light"
          }
        }
      ]
    },
    {
      "cell_type": "code",
      "metadata": {
        "colab": {
          "base_uri": "https://localhost:8080/",
          "height": 296
        },
        "id": "SIVQicL12UqC",
        "outputId": "4a31c569-d36b-42e3-acd8-d2ade08daf16"
      },
      "source": [
        "sns.barplot(df[\"ca\"],y)\r\n"
      ],
      "execution_count": 43,
      "outputs": [
        {
          "output_type": "execute_result",
          "data": {
            "text/plain": [
              "<matplotlib.axes._subplots.AxesSubplot at 0x7fa9948596a0>"
            ]
          },
          "metadata": {
            "tags": []
          },
          "execution_count": 43
        },
        {
          "output_type": "display_data",
          "data": {
            "image/png": "[encoded data removed]",
            "text/plain": [
              "<Figure size 432x288 with 1 Axes>"
            ]
          },
          "metadata": {
            "tags": [],
            "needs_background": "light"
          }
        }
      ]
    },
    {
      "cell_type": "code",
      "metadata": {
        "colab": {
          "base_uri": "https://localhost:8080/"
        },
        "id": "BPueOFxS2Xy3",
        "outputId": "34e799bb-6bbb-4446-e8a2-999dfdb6a837"
      },
      "source": [
        "df[\"thal\"].unique()\r\n"
      ],
      "execution_count": 44,
      "outputs": [
        {
          "output_type": "execute_result",
          "data": {
            "text/plain": [
              "array([1, 2, 3, 0])"
            ]
          },
          "metadata": {
            "tags": []
          },
          "execution_count": 44
        }
      ]
    },
    {
      "cell_type": "code",
      "metadata": {
        "colab": {
          "base_uri": "https://localhost:8080/",
          "height": 296
        },
        "id": "yC-32cct2blS",
        "outputId": "a7ad11be-a66b-4a45-ff52-50e16c1b5ee6"
      },
      "source": [
        "sns.barplot(df[\"thal\"],y)\r\n"
      ],
      "execution_count": 45,
      "outputs": [
        {
          "output_type": "execute_result",
          "data": {
            "text/plain": [
              "<matplotlib.axes._subplots.AxesSubplot at 0x7fa99486c278>"
            ]
          },
          "metadata": {
            "tags": []
          },
          "execution_count": 45
        },
        {
          "output_type": "display_data",
          "data": {
            "image/png": "[encoded data removed]",
            "text/plain": [
              "<Figure size 432x288 with 1 Axes>"
            ]
          },
          "metadata": {
            "tags": [],
            "needs_background": "light"
          }
        }
      ]
    },
    {
      "cell_type": "code",
      "metadata": {
        "colab": {
          "base_uri": "https://localhost:8080/",
          "height": 296
        },
        "id": "dnHJfu4Z2gCV",
        "outputId": "2ff59f3f-96e6-4864-daea-1e863a5f0e48"
      },
      "source": [
        "sns.distplot(df[\"thal\"])\r\n"
      ],
      "execution_count": 46,
      "outputs": [
        {
          "output_type": "execute_result",
          "data": {
            "text/plain": [
              "<matplotlib.axes._subplots.AxesSubplot at 0x7fa994729da0>"
            ]
          },
          "metadata": {
            "tags": []
          },
          "execution_count": 46
        },
        {
          "output_type": "display_data",
          "data": {
            "image/png": "[encoded data removed]",
            "text/plain": [
              "<Figure size 432x288 with 1 Axes>"
            ]
          },
          "metadata": {
            "tags": [],
            "needs_background": "light"
          }
        }
      ]
    },
    {
      "cell_type": "code",
      "metadata": {
        "id": "H2dYh2HX2kEb"
      },
      "source": [
        "from sklearn.model_selection import train_test_split\r\n",
        "\r\n",
        "predictors = df.drop(\"target\",axis=1)\r\n",
        "target = df[\"target\"]\r\n",
        "\r\n",
        "X_train,X_test,Y_train,Y_test = train_test_split(predictors,target,test_size=0.20,random_state=0)"
      ],
      "execution_count": 47,
      "outputs": []
    },
    {
      "cell_type": "code",
      "metadata": {
        "colab": {
          "base_uri": "https://localhost:8080/"
        },
        "id": "bMXI-v6P2r_Y",
        "outputId": "2b997140-0a61-41b1-f5dd-3241dc66a2be"
      },
      "source": [
        "X_train.shape\r\n"
      ],
      "execution_count": 48,
      "outputs": [
        {
          "output_type": "execute_result",
          "data": {
            "text/plain": [
              "(242, 13)"
            ]
          },
          "metadata": {
            "tags": []
          },
          "execution_count": 48
        }
      ]
    },
    {
      "cell_type": "code",
      "metadata": {
        "colab": {
          "base_uri": "https://localhost:8080/"
        },
        "id": "1G7TGapg2uyy",
        "outputId": "a4bd5174-1177-4526-953c-750006542e50"
      },
      "source": [
        "X_test.shape\r\n"
      ],
      "execution_count": 49,
      "outputs": [
        {
          "output_type": "execute_result",
          "data": {
            "text/plain": [
              "(61, 13)"
            ]
          },
          "metadata": {
            "tags": []
          },
          "execution_count": 49
        }
      ]
    },
    {
      "cell_type": "code",
      "metadata": {
        "colab": {
          "base_uri": "https://localhost:8080/"
        },
        "id": "_RMeiq6p2wjr",
        "outputId": "a6ad268e-3e6b-4226-b368-0ba246735f54"
      },
      "source": [
        "Y_train.shape\r\n"
      ],
      "execution_count": 50,
      "outputs": [
        {
          "output_type": "execute_result",
          "data": {
            "text/plain": [
              "(242,)"
            ]
          },
          "metadata": {
            "tags": []
          },
          "execution_count": 50
        }
      ]
    },
    {
      "cell_type": "code",
      "metadata": {
        "colab": {
          "base_uri": "https://localhost:8080/"
        },
        "id": "PgKWDuz-2yZS",
        "outputId": "b571625f-6e2a-492a-939a-ed992a29f354"
      },
      "source": [
        "Y_test.shape\r\n"
      ],
      "execution_count": 51,
      "outputs": [
        {
          "output_type": "execute_result",
          "data": {
            "text/plain": [
              "(61,)"
            ]
          },
          "metadata": {
            "tags": []
          },
          "execution_count": 51
        }
      ]
    },
    {
      "cell_type": "code",
      "metadata": {
        "id": "ZU0OvNRg20Ll"
      },
      "source": [
        "\r\n",
        "from keras.models import Sequential\r\n",
        "from keras.layers import Dense"
      ],
      "execution_count": 52,
      "outputs": []
    },
    {
      "cell_type": "code",
      "metadata": {
        "id": "K_vAIuJv23_M"
      },
      "source": [
        "\r\n",
        "model = Sequential()\r\n",
        "model.add(Dense(11,activation='relu',input_dim=13))\r\n",
        "model.add(Dense(1,activation='sigmoid'))\r\n",
        "\r\n",
        "model.compile(loss='binary_crossentropy',optimizer='adam',metrics=['accuracy'])"
      ],
      "execution_count": 53,
      "outputs": []
    },
    {
      "cell_type": "code",
      "metadata": {
        "colab": {
          "base_uri": "https://localhost:8080/"
        },
        "id": "NuxuJ9U528VP",
        "outputId": "e0678233-4265-45ce-cab1-9e5efe991a2a"
      },
      "source": [
        "model.fit(X_train,Y_train,epochs=300)\r\n"
      ],
      "execution_count": 54,
      "outputs": [
        {
          "output_type": "stream",
          "text": [
            "Epoch 1/300\n",
            "8/8 [==============================] - 1s 1ms/step - loss: 12.5361 - accuracy: 0.5717\n",
            "Epoch 2/300\n",
            "8/8 [==============================] - 0s 1ms/step - loss: 10.7418 - accuracy: 0.5588\n",
            "Epoch 3/300\n",
            "8/8 [==============================] - 0s 2ms/step - loss: 8.8883 - accuracy: 0.5511\n",
            "Epoch 4/300\n",
            "8/8 [==============================] - 0s 2ms/step - loss: 7.0190 - accuracy: 0.5720\n",
            "Epoch 5/300\n",
            "8/8 [==============================] - 0s 2ms/step - loss: 5.8242 - accuracy: 0.5346\n",
            "Epoch 6/300\n",
            "8/8 [==============================] - 0s 1ms/step - loss: 4.2717 - accuracy: 0.5350\n",
            "Epoch 7/300\n",
            "8/8 [==============================] - 0s 2ms/step - loss: 3.0306 - accuracy: 0.5390\n",
            "Epoch 8/300\n",
            "8/8 [==============================] - 0s 2ms/step - loss: 1.7106 - accuracy: 0.5867\n",
            "Epoch 9/300\n",
            "8/8 [==============================] - 0s 2ms/step - loss: 1.1658 - accuracy: 0.6114\n",
            "Epoch 10/300\n",
            "8/8 [==============================] - 0s 2ms/step - loss: 1.1041 - accuracy: 0.6317\n",
            "Epoch 11/300\n",
            "8/8 [==============================] - 0s 2ms/step - loss: 1.0741 - accuracy: 0.6480\n",
            "Epoch 12/300\n",
            "8/8 [==============================] - 0s 2ms/step - loss: 1.1917 - accuracy: 0.6092\n",
            "Epoch 13/300\n",
            "8/8 [==============================] - 0s 2ms/step - loss: 1.0001 - accuracy: 0.6290\n",
            "Epoch 14/300\n",
            "8/8 [==============================] - 0s 2ms/step - loss: 1.0152 - accuracy: 0.6135\n",
            "Epoch 15/300\n",
            "8/8 [==============================] - 0s 2ms/step - loss: 1.0308 - accuracy: 0.6173\n",
            "Epoch 16/300\n",
            "8/8 [==============================] - 0s 2ms/step - loss: 1.0719 - accuracy: 0.5955\n",
            "Epoch 17/300\n",
            "8/8 [==============================] - 0s 2ms/step - loss: 1.0437 - accuracy: 0.6035\n",
            "Epoch 18/300\n",
            "8/8 [==============================] - 0s 1ms/step - loss: 0.9288 - accuracy: 0.6454\n",
            "Epoch 19/300\n",
            "8/8 [==============================] - 0s 1ms/step - loss: 1.0454 - accuracy: 0.6040\n",
            "Epoch 20/300\n",
            "8/8 [==============================] - 0s 1ms/step - loss: 0.9228 - accuracy: 0.6432\n",
            "Epoch 21/300\n",
            "8/8 [==============================] - 0s 2ms/step - loss: 1.0140 - accuracy: 0.6328\n",
            "Epoch 22/300\n",
            "8/8 [==============================] - 0s 2ms/step - loss: 0.8610 - accuracy: 0.6367\n",
            "Epoch 23/300\n",
            "8/8 [==============================] - 0s 2ms/step - loss: 0.9168 - accuracy: 0.6498\n",
            "Epoch 24/300\n",
            "8/8 [==============================] - 0s 2ms/step - loss: 0.9191 - accuracy: 0.6063\n",
            "Epoch 25/300\n",
            "8/8 [==============================] - 0s 2ms/step - loss: 0.8418 - accuracy: 0.6250\n",
            "Epoch 26/300\n",
            "8/8 [==============================] - 0s 2ms/step - loss: 0.7946 - accuracy: 0.6279\n",
            "Epoch 27/300\n",
            "8/8 [==============================] - 0s 2ms/step - loss: 0.8697 - accuracy: 0.6339\n",
            "Epoch 28/300\n",
            "8/8 [==============================] - 0s 2ms/step - loss: 0.8167 - accuracy: 0.6011\n",
            "Epoch 29/300\n",
            "8/8 [==============================] - 0s 2ms/step - loss: 0.8739 - accuracy: 0.6162\n",
            "Epoch 30/300\n",
            "8/8 [==============================] - 0s 2ms/step - loss: 0.8496 - accuracy: 0.5858\n",
            "Epoch 31/300\n",
            "8/8 [==============================] - 0s 2ms/step - loss: 0.7340 - accuracy: 0.6226\n",
            "Epoch 32/300\n",
            "8/8 [==============================] - 0s 2ms/step - loss: 0.6999 - accuracy: 0.6408\n",
            "Epoch 33/300\n",
            "8/8 [==============================] - 0s 2ms/step - loss: 0.7226 - accuracy: 0.6262\n",
            "Epoch 34/300\n",
            "8/8 [==============================] - 0s 2ms/step - loss: 0.7370 - accuracy: 0.6447\n",
            "Epoch 35/300\n",
            "8/8 [==============================] - 0s 2ms/step - loss: 0.7716 - accuracy: 0.6410\n",
            "Epoch 36/300\n",
            "8/8 [==============================] - 0s 2ms/step - loss: 0.7694 - accuracy: 0.6355\n",
            "Epoch 37/300\n",
            "8/8 [==============================] - 0s 2ms/step - loss: 0.6699 - accuracy: 0.6305\n",
            "Epoch 38/300\n",
            "8/8 [==============================] - 0s 2ms/step - loss: 0.6639 - accuracy: 0.6847\n",
            "Epoch 39/300\n",
            "8/8 [==============================] - 0s 2ms/step - loss: 0.6442 - accuracy: 0.7068\n",
            "Epoch 40/300\n",
            "8/8 [==============================] - 0s 2ms/step - loss: 0.6499 - accuracy: 0.6906\n",
            "Epoch 41/300\n",
            "8/8 [==============================] - 0s 2ms/step - loss: 0.6855 - accuracy: 0.6842\n",
            "Epoch 42/300\n",
            "8/8 [==============================] - 0s 2ms/step - loss: 0.6125 - accuracy: 0.7130\n",
            "Epoch 43/300\n",
            "8/8 [==============================] - 0s 4ms/step - loss: 0.7414 - accuracy: 0.6438\n",
            "Epoch 44/300\n",
            "8/8 [==============================] - 0s 2ms/step - loss: 0.5483 - accuracy: 0.7297\n",
            "Epoch 45/300\n",
            "8/8 [==============================] - 0s 2ms/step - loss: 0.5521 - accuracy: 0.7209\n",
            "Epoch 46/300\n",
            "8/8 [==============================] - 0s 2ms/step - loss: 0.5715 - accuracy: 0.6948\n",
            "Epoch 47/300\n",
            "8/8 [==============================] - 0s 2ms/step - loss: 0.6072 - accuracy: 0.6782\n",
            "Epoch 48/300\n",
            "8/8 [==============================] - 0s 2ms/step - loss: 0.5648 - accuracy: 0.7228\n",
            "Epoch 49/300\n",
            "8/8 [==============================] - 0s 2ms/step - loss: 0.5622 - accuracy: 0.7159\n",
            "Epoch 50/300\n",
            "8/8 [==============================] - 0s 2ms/step - loss: 0.5800 - accuracy: 0.7174\n",
            "Epoch 51/300\n",
            "8/8 [==============================] - 0s 2ms/step - loss: 0.6459 - accuracy: 0.6938\n",
            "Epoch 52/300\n",
            "8/8 [==============================] - 0s 2ms/step - loss: 0.5919 - accuracy: 0.7030\n",
            "Epoch 53/300\n",
            "8/8 [==============================] - 0s 2ms/step - loss: 0.5170 - accuracy: 0.7714\n",
            "Epoch 54/300\n",
            "8/8 [==============================] - 0s 2ms/step - loss: 0.5767 - accuracy: 0.7124\n",
            "Epoch 55/300\n",
            "8/8 [==============================] - 0s 2ms/step - loss: 0.5787 - accuracy: 0.7228\n",
            "Epoch 56/300\n",
            "8/8 [==============================] - 0s 2ms/step - loss: 0.5532 - accuracy: 0.7021\n",
            "Epoch 57/300\n",
            "8/8 [==============================] - 0s 2ms/step - loss: 0.5731 - accuracy: 0.7396\n",
            "Epoch 58/300\n",
            "8/8 [==============================] - 0s 2ms/step - loss: 0.5764 - accuracy: 0.7007\n",
            "Epoch 59/300\n",
            "8/8 [==============================] - 0s 2ms/step - loss: 0.5400 - accuracy: 0.7236\n",
            "Epoch 60/300\n",
            "8/8 [==============================] - 0s 2ms/step - loss: 0.6033 - accuracy: 0.7189\n",
            "Epoch 61/300\n",
            "8/8 [==============================] - 0s 2ms/step - loss: 0.5587 - accuracy: 0.7190\n",
            "Epoch 62/300\n",
            "8/8 [==============================] - 0s 2ms/step - loss: 0.5806 - accuracy: 0.7276\n",
            "Epoch 63/300\n",
            "8/8 [==============================] - 0s 2ms/step - loss: 0.5199 - accuracy: 0.7417\n",
            "Epoch 64/300\n",
            "8/8 [==============================] - 0s 2ms/step - loss: 0.5353 - accuracy: 0.7425\n",
            "Epoch 65/300\n",
            "8/8 [==============================] - 0s 1ms/step - loss: 0.5394 - accuracy: 0.7000\n",
            "Epoch 66/300\n",
            "8/8 [==============================] - 0s 2ms/step - loss: 0.5658 - accuracy: 0.7524\n",
            "Epoch 67/300\n",
            "8/8 [==============================] - 0s 2ms/step - loss: 0.5721 - accuracy: 0.7254\n",
            "Epoch 68/300\n",
            "8/8 [==============================] - 0s 2ms/step - loss: 0.5583 - accuracy: 0.7079\n",
            "Epoch 69/300\n",
            "8/8 [==============================] - 0s 2ms/step - loss: 0.5249 - accuracy: 0.7395\n",
            "Epoch 70/300\n",
            "8/8 [==============================] - 0s 2ms/step - loss: 0.5216 - accuracy: 0.7377\n",
            "Epoch 71/300\n",
            "8/8 [==============================] - 0s 2ms/step - loss: 0.5212 - accuracy: 0.7763\n",
            "Epoch 72/300\n",
            "8/8 [==============================] - 0s 2ms/step - loss: 0.5688 - accuracy: 0.6960\n",
            "Epoch 73/300\n",
            "8/8 [==============================] - 0s 2ms/step - loss: 0.4978 - accuracy: 0.7585\n",
            "Epoch 74/300\n",
            "8/8 [==============================] - 0s 2ms/step - loss: 0.5210 - accuracy: 0.7460\n",
            "Epoch 75/300\n",
            "8/8 [==============================] - 0s 2ms/step - loss: 0.5475 - accuracy: 0.7276\n",
            "Epoch 76/300\n",
            "8/8 [==============================] - 0s 2ms/step - loss: 0.4968 - accuracy: 0.7776\n",
            "Epoch 77/300\n",
            "8/8 [==============================] - 0s 2ms/step - loss: 0.5096 - accuracy: 0.7476\n",
            "Epoch 78/300\n",
            "8/8 [==============================] - 0s 2ms/step - loss: 0.5148 - accuracy: 0.7846\n",
            "Epoch 79/300\n",
            "8/8 [==============================] - 0s 2ms/step - loss: 0.5548 - accuracy: 0.7299\n",
            "Epoch 80/300\n",
            "8/8 [==============================] - 0s 2ms/step - loss: 0.5034 - accuracy: 0.7403\n",
            "Epoch 81/300\n",
            "8/8 [==============================] - 0s 2ms/step - loss: 0.5438 - accuracy: 0.7433\n",
            "Epoch 82/300\n",
            "8/8 [==============================] - 0s 2ms/step - loss: 0.5200 - accuracy: 0.7523\n",
            "Epoch 83/300\n",
            "8/8 [==============================] - 0s 2ms/step - loss: 0.5342 - accuracy: 0.7597\n",
            "Epoch 84/300\n",
            "8/8 [==============================] - 0s 2ms/step - loss: 0.5331 - accuracy: 0.7469\n",
            "Epoch 85/300\n",
            "8/8 [==============================] - 0s 2ms/step - loss: 0.4892 - accuracy: 0.7831\n",
            "Epoch 86/300\n",
            "8/8 [==============================] - 0s 2ms/step - loss: 0.4962 - accuracy: 0.7897\n",
            "Epoch 87/300\n",
            "8/8 [==============================] - 0s 2ms/step - loss: 0.5242 - accuracy: 0.7269\n",
            "Epoch 88/300\n",
            "8/8 [==============================] - 0s 2ms/step - loss: 0.4923 - accuracy: 0.7645\n",
            "Epoch 89/300\n",
            "8/8 [==============================] - 0s 2ms/step - loss: 0.5208 - accuracy: 0.7490\n",
            "Epoch 90/300\n",
            "8/8 [==============================] - 0s 2ms/step - loss: 0.5351 - accuracy: 0.7278\n",
            "Epoch 91/300\n",
            "8/8 [==============================] - 0s 2ms/step - loss: 0.5019 - accuracy: 0.8064\n",
            "Epoch 92/300\n",
            "8/8 [==============================] - 0s 2ms/step - loss: 0.4874 - accuracy: 0.7651\n",
            "Epoch 93/300\n",
            "8/8 [==============================] - 0s 2ms/step - loss: 0.5231 - accuracy: 0.7458\n",
            "Epoch 94/300\n",
            "8/8 [==============================] - 0s 2ms/step - loss: 0.4953 - accuracy: 0.7684\n",
            "Epoch 95/300\n",
            "8/8 [==============================] - 0s 4ms/step - loss: 0.4787 - accuracy: 0.7573\n",
            "Epoch 96/300\n",
            "8/8 [==============================] - 0s 2ms/step - loss: 0.4761 - accuracy: 0.7685\n",
            "Epoch 97/300\n",
            "8/8 [==============================] - 0s 2ms/step - loss: 0.4565 - accuracy: 0.7931\n",
            "Epoch 98/300\n",
            "8/8 [==============================] - 0s 2ms/step - loss: 0.5394 - accuracy: 0.7302\n",
            "Epoch 99/300\n",
            "8/8 [==============================] - 0s 3ms/step - loss: 0.4730 - accuracy: 0.7772\n",
            "Epoch 100/300\n",
            "8/8 [==============================] - 0s 1ms/step - loss: 0.4863 - accuracy: 0.7826\n",
            "Epoch 101/300\n",
            "8/8 [==============================] - 0s 2ms/step - loss: 0.5262 - accuracy: 0.7355\n",
            "Epoch 102/300\n",
            "8/8 [==============================] - 0s 2ms/step - loss: 0.4570 - accuracy: 0.7858\n",
            "Epoch 103/300\n",
            "8/8 [==============================] - 0s 2ms/step - loss: 0.4565 - accuracy: 0.7755\n",
            "Epoch 104/300\n",
            "8/8 [==============================] - 0s 2ms/step - loss: 0.5048 - accuracy: 0.7350\n",
            "Epoch 105/300\n",
            "8/8 [==============================] - 0s 2ms/step - loss: 0.4909 - accuracy: 0.7860\n",
            "Epoch 106/300\n",
            "8/8 [==============================] - 0s 2ms/step - loss: 0.5061 - accuracy: 0.7326\n",
            "Epoch 107/300\n",
            "8/8 [==============================] - 0s 2ms/step - loss: 0.4679 - accuracy: 0.7451\n",
            "Epoch 108/300\n",
            "8/8 [==============================] - 0s 2ms/step - loss: 0.4666 - accuracy: 0.7884\n",
            "Epoch 109/300\n",
            "8/8 [==============================] - 0s 2ms/step - loss: 0.4986 - accuracy: 0.7509\n",
            "Epoch 110/300\n",
            "8/8 [==============================] - 0s 2ms/step - loss: 0.4745 - accuracy: 0.7870\n",
            "Epoch 111/300\n",
            "8/8 [==============================] - 0s 2ms/step - loss: 0.4648 - accuracy: 0.7943\n",
            "Epoch 112/300\n",
            "8/8 [==============================] - 0s 2ms/step - loss: 0.4921 - accuracy: 0.7533\n",
            "Epoch 113/300\n",
            "8/8 [==============================] - 0s 2ms/step - loss: 0.4818 - accuracy: 0.7705\n",
            "Epoch 114/300\n",
            "8/8 [==============================] - 0s 2ms/step - loss: 0.4616 - accuracy: 0.7955\n",
            "Epoch 115/300\n",
            "8/8 [==============================] - 0s 2ms/step - loss: 0.4490 - accuracy: 0.8085\n",
            "Epoch 116/300\n",
            "8/8 [==============================] - 0s 2ms/step - loss: 0.4702 - accuracy: 0.7885\n",
            "Epoch 117/300\n",
            "8/8 [==============================] - 0s 2ms/step - loss: 0.4340 - accuracy: 0.8219\n",
            "Epoch 118/300\n",
            "8/8 [==============================] - 0s 2ms/step - loss: 0.4354 - accuracy: 0.8259\n",
            "Epoch 119/300\n",
            "8/8 [==============================] - 0s 2ms/step - loss: 0.4878 - accuracy: 0.7617\n",
            "Epoch 120/300\n",
            "8/8 [==============================] - 0s 2ms/step - loss: 0.4240 - accuracy: 0.8325\n",
            "Epoch 121/300\n",
            "8/8 [==============================] - 0s 2ms/step - loss: 0.4537 - accuracy: 0.8019\n",
            "Epoch 122/300\n",
            "8/8 [==============================] - 0s 2ms/step - loss: 0.4526 - accuracy: 0.8094\n",
            "Epoch 123/300\n",
            "8/8 [==============================] - 0s 2ms/step - loss: 0.4680 - accuracy: 0.7672\n",
            "Epoch 124/300\n",
            "8/8 [==============================] - 0s 2ms/step - loss: 0.4694 - accuracy: 0.7765\n",
            "Epoch 125/300\n",
            "8/8 [==============================] - 0s 2ms/step - loss: 0.4426 - accuracy: 0.7823\n",
            "Epoch 126/300\n",
            "8/8 [==============================] - 0s 2ms/step - loss: 0.4444 - accuracy: 0.7957\n",
            "Epoch 127/300\n",
            "8/8 [==============================] - 0s 2ms/step - loss: 0.4383 - accuracy: 0.7988\n",
            "Epoch 128/300\n",
            "8/8 [==============================] - 0s 2ms/step - loss: 0.4365 - accuracy: 0.7896\n",
            "Epoch 129/300\n",
            "8/8 [==============================] - 0s 2ms/step - loss: 0.4883 - accuracy: 0.7493\n",
            "Epoch 130/300\n",
            "8/8 [==============================] - 0s 2ms/step - loss: 0.4276 - accuracy: 0.8027\n",
            "Epoch 131/300\n",
            "8/8 [==============================] - 0s 2ms/step - loss: 0.4852 - accuracy: 0.7812\n",
            "Epoch 132/300\n",
            "8/8 [==============================] - 0s 2ms/step - loss: 0.4506 - accuracy: 0.7875\n",
            "Epoch 133/300\n",
            "8/8 [==============================] - 0s 2ms/step - loss: 0.4484 - accuracy: 0.7974\n",
            "Epoch 134/300\n",
            "8/8 [==============================] - 0s 2ms/step - loss: 0.4422 - accuracy: 0.7792\n",
            "Epoch 135/300\n",
            "8/8 [==============================] - 0s 2ms/step - loss: 0.4473 - accuracy: 0.8087\n",
            "Epoch 136/300\n",
            "8/8 [==============================] - 0s 2ms/step - loss: 0.4241 - accuracy: 0.7972\n",
            "Epoch 137/300\n",
            "8/8 [==============================] - 0s 2ms/step - loss: 0.4273 - accuracy: 0.8223\n",
            "Epoch 138/300\n",
            "8/8 [==============================] - 0s 2ms/step - loss: 0.4275 - accuracy: 0.8225\n",
            "Epoch 139/300\n",
            "8/8 [==============================] - 0s 2ms/step - loss: 0.4537 - accuracy: 0.7908\n",
            "Epoch 140/300\n",
            "8/8 [==============================] - 0s 2ms/step - loss: 0.4430 - accuracy: 0.8121\n",
            "Epoch 141/300\n",
            "8/8 [==============================] - 0s 2ms/step - loss: 0.4246 - accuracy: 0.7880\n",
            "Epoch 142/300\n",
            "8/8 [==============================] - 0s 2ms/step - loss: 0.4216 - accuracy: 0.8176\n",
            "Epoch 143/300\n",
            "8/8 [==============================] - 0s 2ms/step - loss: 0.4235 - accuracy: 0.8123\n",
            "Epoch 144/300\n",
            "8/8 [==============================] - 0s 2ms/step - loss: 0.4425 - accuracy: 0.7913\n",
            "Epoch 145/300\n",
            "8/8 [==============================] - 0s 3ms/step - loss: 0.4352 - accuracy: 0.8219\n",
            "Epoch 146/300\n",
            "8/8 [==============================] - 0s 2ms/step - loss: 0.4329 - accuracy: 0.8122\n",
            "Epoch 147/300\n",
            "8/8 [==============================] - 0s 2ms/step - loss: 0.4238 - accuracy: 0.8260\n",
            "Epoch 148/300\n",
            "8/8 [==============================] - 0s 2ms/step - loss: 0.4247 - accuracy: 0.8239\n",
            "Epoch 149/300\n",
            "8/8 [==============================] - 0s 2ms/step - loss: 0.4608 - accuracy: 0.7820\n",
            "Epoch 150/300\n",
            "8/8 [==============================] - 0s 2ms/step - loss: 0.4347 - accuracy: 0.8121\n",
            "Epoch 151/300\n",
            "8/8 [==============================] - 0s 2ms/step - loss: 0.4276 - accuracy: 0.8197\n",
            "Epoch 152/300\n",
            "8/8 [==============================] - 0s 2ms/step - loss: 0.4076 - accuracy: 0.8206\n",
            "Epoch 153/300\n",
            "8/8 [==============================] - 0s 2ms/step - loss: 0.4060 - accuracy: 0.8532\n",
            "Epoch 154/300\n",
            "8/8 [==============================] - 0s 2ms/step - loss: 0.4216 - accuracy: 0.8003\n",
            "Epoch 155/300\n",
            "8/8 [==============================] - 0s 2ms/step - loss: 0.4195 - accuracy: 0.8332\n",
            "Epoch 156/300\n",
            "8/8 [==============================] - 0s 2ms/step - loss: 0.4100 - accuracy: 0.8382\n",
            "Epoch 157/300\n",
            "8/8 [==============================] - 0s 2ms/step - loss: 0.4237 - accuracy: 0.7953\n",
            "Epoch 158/300\n",
            "8/8 [==============================] - 0s 2ms/step - loss: 0.4036 - accuracy: 0.8384\n",
            "Epoch 159/300\n",
            "8/8 [==============================] - 0s 2ms/step - loss: 0.4258 - accuracy: 0.8168\n",
            "Epoch 160/300\n",
            "8/8 [==============================] - 0s 3ms/step - loss: 0.4124 - accuracy: 0.8478\n",
            "Epoch 161/300\n",
            "8/8 [==============================] - 0s 2ms/step - loss: 0.4485 - accuracy: 0.7920\n",
            "Epoch 162/300\n",
            "8/8 [==============================] - 0s 2ms/step - loss: 0.4028 - accuracy: 0.8208\n",
            "Epoch 163/300\n",
            "8/8 [==============================] - 0s 3ms/step - loss: 0.3898 - accuracy: 0.8424\n",
            "Epoch 164/300\n",
            "8/8 [==============================] - 0s 2ms/step - loss: 0.4169 - accuracy: 0.8303\n",
            "Epoch 165/300\n",
            "8/8 [==============================] - 0s 2ms/step - loss: 0.3928 - accuracy: 0.8473\n",
            "Epoch 166/300\n",
            "8/8 [==============================] - 0s 2ms/step - loss: 0.3816 - accuracy: 0.8650\n",
            "Epoch 167/300\n",
            "8/8 [==============================] - 0s 2ms/step - loss: 0.4053 - accuracy: 0.8255\n",
            "Epoch 168/300\n",
            "8/8 [==============================] - 0s 2ms/step - loss: 0.4257 - accuracy: 0.8177\n",
            "Epoch 169/300\n",
            "8/8 [==============================] - 0s 2ms/step - loss: 0.4054 - accuracy: 0.8376\n",
            "Epoch 170/300\n",
            "8/8 [==============================] - 0s 2ms/step - loss: 0.3903 - accuracy: 0.8279\n",
            "Epoch 171/300\n",
            "8/8 [==============================] - 0s 2ms/step - loss: 0.4159 - accuracy: 0.8229\n",
            "Epoch 172/300\n",
            "8/8 [==============================] - 0s 3ms/step - loss: 0.4283 - accuracy: 0.8239\n",
            "Epoch 173/300\n",
            "8/8 [==============================] - 0s 2ms/step - loss: 0.4080 - accuracy: 0.8229\n",
            "Epoch 174/300\n",
            "8/8 [==============================] - 0s 2ms/step - loss: 0.3852 - accuracy: 0.8477\n",
            "Epoch 175/300\n",
            "8/8 [==============================] - 0s 2ms/step - loss: 0.4090 - accuracy: 0.8267\n",
            "Epoch 176/300\n",
            "8/8 [==============================] - 0s 2ms/step - loss: 0.4158 - accuracy: 0.8215\n",
            "Epoch 177/300\n",
            "8/8 [==============================] - 0s 2ms/step - loss: 0.3682 - accuracy: 0.8696\n",
            "Epoch 178/300\n",
            "8/8 [==============================] - 0s 2ms/step - loss: 0.4163 - accuracy: 0.8170\n",
            "Epoch 179/300\n",
            "8/8 [==============================] - 0s 2ms/step - loss: 0.4170 - accuracy: 0.8400\n",
            "Epoch 180/300\n",
            "8/8 [==============================] - 0s 3ms/step - loss: 0.3823 - accuracy: 0.8639\n",
            "Epoch 181/300\n",
            "8/8 [==============================] - 0s 3ms/step - loss: 0.4191 - accuracy: 0.8203\n",
            "Epoch 182/300\n",
            "8/8 [==============================] - 0s 2ms/step - loss: 0.3884 - accuracy: 0.8355\n",
            "Epoch 183/300\n",
            "8/8 [==============================] - 0s 2ms/step - loss: 0.3941 - accuracy: 0.8537\n",
            "Epoch 184/300\n",
            "8/8 [==============================] - 0s 2ms/step - loss: 0.4095 - accuracy: 0.8448\n",
            "Epoch 185/300\n",
            "8/8 [==============================] - 0s 2ms/step - loss: 0.3634 - accuracy: 0.8461\n",
            "Epoch 186/300\n",
            "8/8 [==============================] - 0s 2ms/step - loss: 0.3685 - accuracy: 0.8573\n",
            "Epoch 187/300\n",
            "8/8 [==============================] - 0s 2ms/step - loss: 0.3937 - accuracy: 0.8492\n",
            "Epoch 188/300\n",
            "8/8 [==============================] - 0s 2ms/step - loss: 0.4164 - accuracy: 0.8209\n",
            "Epoch 189/300\n",
            "8/8 [==============================] - 0s 2ms/step - loss: 0.3970 - accuracy: 0.8348\n",
            "Epoch 190/300\n",
            "8/8 [==============================] - 0s 3ms/step - loss: 0.4025 - accuracy: 0.8272\n",
            "Epoch 191/300\n",
            "8/8 [==============================] - 0s 3ms/step - loss: 0.3940 - accuracy: 0.8794\n",
            "Epoch 192/300\n",
            "8/8 [==============================] - 0s 2ms/step - loss: 0.4074 - accuracy: 0.8475\n",
            "Epoch 193/300\n",
            "8/8 [==============================] - 0s 2ms/step - loss: 0.3959 - accuracy: 0.8325\n",
            "Epoch 194/300\n",
            "8/8 [==============================] - 0s 2ms/step - loss: 0.3999 - accuracy: 0.8424\n",
            "Epoch 195/300\n",
            "8/8 [==============================] - 0s 2ms/step - loss: 0.3939 - accuracy: 0.8341\n",
            "Epoch 196/300\n",
            "8/8 [==============================] - 0s 2ms/step - loss: 0.3782 - accuracy: 0.8514\n",
            "Epoch 197/300\n",
            "8/8 [==============================] - 0s 2ms/step - loss: 0.3896 - accuracy: 0.8432\n",
            "Epoch 198/300\n",
            "8/8 [==============================] - 0s 2ms/step - loss: 0.3886 - accuracy: 0.8402\n",
            "Epoch 199/300\n",
            "8/8 [==============================] - 0s 2ms/step - loss: 0.4070 - accuracy: 0.8241\n",
            "Epoch 200/300\n",
            "8/8 [==============================] - 0s 2ms/step - loss: 0.3992 - accuracy: 0.8234\n",
            "Epoch 201/300\n",
            "8/8 [==============================] - 0s 2ms/step - loss: 0.3839 - accuracy: 0.8467\n",
            "Epoch 202/300\n",
            "8/8 [==============================] - 0s 2ms/step - loss: 0.3928 - accuracy: 0.8501\n",
            "Epoch 203/300\n",
            "8/8 [==============================] - 0s 2ms/step - loss: 0.3900 - accuracy: 0.8402\n",
            "Epoch 204/300\n",
            "8/8 [==============================] - 0s 2ms/step - loss: 0.3806 - accuracy: 0.8418\n",
            "Epoch 205/300\n",
            "8/8 [==============================] - 0s 3ms/step - loss: 0.3653 - accuracy: 0.8450\n",
            "Epoch 206/300\n",
            "8/8 [==============================] - 0s 2ms/step - loss: 0.3909 - accuracy: 0.8392\n",
            "Epoch 207/300\n",
            "8/8 [==============================] - 0s 2ms/step - loss: 0.3778 - accuracy: 0.8613\n",
            "Epoch 208/300\n",
            "8/8 [==============================] - 0s 2ms/step - loss: 0.4094 - accuracy: 0.8471\n",
            "Epoch 209/300\n",
            "8/8 [==============================] - 0s 2ms/step - loss: 0.3562 - accuracy: 0.8435\n",
            "Epoch 210/300\n",
            "8/8 [==============================] - 0s 3ms/step - loss: 0.3787 - accuracy: 0.8523\n",
            "Epoch 211/300\n",
            "8/8 [==============================] - 0s 2ms/step - loss: 0.4013 - accuracy: 0.8442\n",
            "Epoch 212/300\n",
            "8/8 [==============================] - 0s 2ms/step - loss: 0.3860 - accuracy: 0.8522\n",
            "Epoch 213/300\n",
            "8/8 [==============================] - 0s 2ms/step - loss: 0.3759 - accuracy: 0.8559\n",
            "Epoch 214/300\n",
            "8/8 [==============================] - 0s 2ms/step - loss: 0.3823 - accuracy: 0.8285\n",
            "Epoch 215/300\n",
            "8/8 [==============================] - 0s 2ms/step - loss: 0.3972 - accuracy: 0.8051\n",
            "Epoch 216/300\n",
            "8/8 [==============================] - 0s 2ms/step - loss: 0.4235 - accuracy: 0.8036\n",
            "Epoch 217/300\n",
            "8/8 [==============================] - 0s 2ms/step - loss: 0.3744 - accuracy: 0.8601\n",
            "Epoch 218/300\n",
            "8/8 [==============================] - 0s 2ms/step - loss: 0.3767 - accuracy: 0.8641\n",
            "Epoch 219/300\n",
            "8/8 [==============================] - 0s 2ms/step - loss: 0.3993 - accuracy: 0.8389\n",
            "Epoch 220/300\n",
            "8/8 [==============================] - 0s 1ms/step - loss: 0.3993 - accuracy: 0.8126\n",
            "Epoch 221/300\n",
            "8/8 [==============================] - 0s 2ms/step - loss: 0.3856 - accuracy: 0.8518\n",
            "Epoch 222/300\n",
            "8/8 [==============================] - 0s 2ms/step - loss: 0.3855 - accuracy: 0.8432\n",
            "Epoch 223/300\n",
            "8/8 [==============================] - 0s 2ms/step - loss: 0.3784 - accuracy: 0.8502\n",
            "Epoch 224/300\n",
            "8/8 [==============================] - 0s 3ms/step - loss: 0.3703 - accuracy: 0.8603\n",
            "Epoch 225/300\n",
            "8/8 [==============================] - 0s 2ms/step - loss: 0.3789 - accuracy: 0.8333\n",
            "Epoch 226/300\n",
            "8/8 [==============================] - 0s 2ms/step - loss: 0.3999 - accuracy: 0.8322\n",
            "Epoch 227/300\n",
            "8/8 [==============================] - 0s 2ms/step - loss: 0.3445 - accuracy: 0.8659\n",
            "Epoch 228/300\n",
            "8/8 [==============================] - 0s 3ms/step - loss: 0.3850 - accuracy: 0.8552\n",
            "Epoch 229/300\n",
            "8/8 [==============================] - 0s 2ms/step - loss: 0.3890 - accuracy: 0.8409\n",
            "Epoch 230/300\n",
            "8/8 [==============================] - 0s 2ms/step - loss: 0.3766 - accuracy: 0.8454\n",
            "Epoch 231/300\n",
            "8/8 [==============================] - 0s 2ms/step - loss: 0.3701 - accuracy: 0.8550\n",
            "Epoch 232/300\n",
            "8/8 [==============================] - 0s 2ms/step - loss: 0.3659 - accuracy: 0.8667\n",
            "Epoch 233/300\n",
            "8/8 [==============================] - 0s 2ms/step - loss: 0.3706 - accuracy: 0.8412\n",
            "Epoch 234/300\n",
            "8/8 [==============================] - 0s 2ms/step - loss: 0.3785 - accuracy: 0.8440\n",
            "Epoch 235/300\n",
            "8/8 [==============================] - 0s 2ms/step - loss: 0.3953 - accuracy: 0.8441\n",
            "Epoch 236/300\n",
            "8/8 [==============================] - 0s 3ms/step - loss: 0.3712 - accuracy: 0.8653\n",
            "Epoch 237/300\n",
            "8/8 [==============================] - 0s 2ms/step - loss: 0.3989 - accuracy: 0.8497\n",
            "Epoch 238/300\n",
            "8/8 [==============================] - 0s 2ms/step - loss: 0.4005 - accuracy: 0.8252\n",
            "Epoch 239/300\n",
            "8/8 [==============================] - 0s 2ms/step - loss: 0.3507 - accuracy: 0.8741\n",
            "Epoch 240/300\n",
            "8/8 [==============================] - 0s 2ms/step - loss: 0.3358 - accuracy: 0.8746\n",
            "Epoch 241/300\n",
            "8/8 [==============================] - 0s 3ms/step - loss: 0.4205 - accuracy: 0.8122\n",
            "Epoch 242/300\n",
            "8/8 [==============================] - 0s 2ms/step - loss: 0.3899 - accuracy: 0.8190\n",
            "Epoch 243/300\n",
            "8/8 [==============================] - 0s 3ms/step - loss: 0.3849 - accuracy: 0.8420\n",
            "Epoch 244/300\n",
            "8/8 [==============================] - 0s 2ms/step - loss: 0.4213 - accuracy: 0.8143\n",
            "Epoch 245/300\n",
            "8/8 [==============================] - 0s 3ms/step - loss: 0.3670 - accuracy: 0.8567\n",
            "Epoch 246/300\n",
            "8/8 [==============================] - 0s 2ms/step - loss: 0.3691 - accuracy: 0.8495\n",
            "Epoch 247/300\n",
            "8/8 [==============================] - 0s 2ms/step - loss: 0.4140 - accuracy: 0.8347\n",
            "Epoch 248/300\n",
            "8/8 [==============================] - 0s 2ms/step - loss: 0.3507 - accuracy: 0.8815\n",
            "Epoch 249/300\n",
            "8/8 [==============================] - 0s 3ms/step - loss: 0.3440 - accuracy: 0.8566\n",
            "Epoch 250/300\n",
            "8/8 [==============================] - 0s 2ms/step - loss: 0.3892 - accuracy: 0.8565\n",
            "Epoch 251/300\n",
            "8/8 [==============================] - 0s 3ms/step - loss: 0.3686 - accuracy: 0.8664\n",
            "Epoch 252/300\n",
            "8/8 [==============================] - 0s 2ms/step - loss: 0.3258 - accuracy: 0.8852\n",
            "Epoch 253/300\n",
            "8/8 [==============================] - 0s 2ms/step - loss: 0.3515 - accuracy: 0.8731\n",
            "Epoch 254/300\n",
            "8/8 [==============================] - 0s 2ms/step - loss: 0.3627 - accuracy: 0.8617\n",
            "Epoch 255/300\n",
            "8/8 [==============================] - 0s 2ms/step - loss: 0.3951 - accuracy: 0.8534\n",
            "Epoch 256/300\n",
            "8/8 [==============================] - 0s 3ms/step - loss: 0.4197 - accuracy: 0.7976\n",
            "Epoch 257/300\n",
            "8/8 [==============================] - 0s 2ms/step - loss: 0.3611 - accuracy: 0.8832\n",
            "Epoch 258/300\n",
            "8/8 [==============================] - 0s 3ms/step - loss: 0.4025 - accuracy: 0.8390\n",
            "Epoch 259/300\n",
            "8/8 [==============================] - 0s 3ms/step - loss: 0.3554 - accuracy: 0.8593\n",
            "Epoch 260/300\n",
            "8/8 [==============================] - 0s 2ms/step - loss: 0.4149 - accuracy: 0.8402\n",
            "Epoch 261/300\n",
            "8/8 [==============================] - 0s 2ms/step - loss: 0.3858 - accuracy: 0.8139\n",
            "Epoch 262/300\n",
            "8/8 [==============================] - 0s 2ms/step - loss: 0.3717 - accuracy: 0.8462\n",
            "Epoch 263/300\n",
            "8/8 [==============================] - 0s 2ms/step - loss: 0.3544 - accuracy: 0.8446\n",
            "Epoch 264/300\n",
            "8/8 [==============================] - 0s 2ms/step - loss: 0.3460 - accuracy: 0.8595\n",
            "Epoch 265/300\n",
            "8/8 [==============================] - 0s 2ms/step - loss: 0.3794 - accuracy: 0.8509\n",
            "Epoch 266/300\n",
            "8/8 [==============================] - 0s 2ms/step - loss: 0.3743 - accuracy: 0.8622\n",
            "Epoch 267/300\n",
            "8/8 [==============================] - 0s 2ms/step - loss: 0.3331 - accuracy: 0.8802\n",
            "Epoch 268/300\n",
            "8/8 [==============================] - 0s 2ms/step - loss: 0.3670 - accuracy: 0.8464\n",
            "Epoch 269/300\n",
            "8/8 [==============================] - 0s 3ms/step - loss: 0.3474 - accuracy: 0.8521\n",
            "Epoch 270/300\n",
            "8/8 [==============================] - 0s 2ms/step - loss: 0.3611 - accuracy: 0.8709\n",
            "Epoch 271/300\n",
            "8/8 [==============================] - 0s 2ms/step - loss: 0.3403 - accuracy: 0.8719\n",
            "Epoch 272/300\n",
            "8/8 [==============================] - 0s 2ms/step - loss: 0.3434 - accuracy: 0.8594\n",
            "Epoch 273/300\n",
            "8/8 [==============================] - 0s 2ms/step - loss: 0.3649 - accuracy: 0.8560\n",
            "Epoch 274/300\n",
            "8/8 [==============================] - 0s 2ms/step - loss: 0.3758 - accuracy: 0.8468\n",
            "Epoch 275/300\n",
            "8/8 [==============================] - 0s 2ms/step - loss: 0.3373 - accuracy: 0.8740\n",
            "Epoch 276/300\n",
            "8/8 [==============================] - 0s 3ms/step - loss: 0.4166 - accuracy: 0.8124\n",
            "Epoch 277/300\n",
            "8/8 [==============================] - 0s 3ms/step - loss: 0.3614 - accuracy: 0.8680\n",
            "Epoch 278/300\n",
            "8/8 [==============================] - 0s 2ms/step - loss: 0.4052 - accuracy: 0.8372\n",
            "Epoch 279/300\n",
            "8/8 [==============================] - 0s 2ms/step - loss: 0.4161 - accuracy: 0.8338\n",
            "Epoch 280/300\n",
            "8/8 [==============================] - 0s 3ms/step - loss: 0.3665 - accuracy: 0.8479\n",
            "Epoch 281/300\n",
            "8/8 [==============================] - 0s 2ms/step - loss: 0.3811 - accuracy: 0.8406\n",
            "Epoch 282/300\n",
            "8/8 [==============================] - 0s 2ms/step - loss: 0.3746 - accuracy: 0.8536\n",
            "Epoch 283/300\n",
            "8/8 [==============================] - 0s 3ms/step - loss: 0.4001 - accuracy: 0.8202\n",
            "Epoch 284/300\n",
            "8/8 [==============================] - 0s 2ms/step - loss: 0.3682 - accuracy: 0.8726\n",
            "Epoch 285/300\n",
            "8/8 [==============================] - 0s 2ms/step - loss: 0.3661 - accuracy: 0.8545\n",
            "Epoch 286/300\n",
            "8/8 [==============================] - 0s 2ms/step - loss: 0.3740 - accuracy: 0.8440\n",
            "Epoch 287/300\n",
            "8/8 [==============================] - 0s 2ms/step - loss: 0.3978 - accuracy: 0.8294\n",
            "Epoch 288/300\n",
            "8/8 [==============================] - 0s 2ms/step - loss: 0.3776 - accuracy: 0.8562\n",
            "Epoch 289/300\n",
            "8/8 [==============================] - 0s 2ms/step - loss: 0.3753 - accuracy: 0.8411\n",
            "Epoch 290/300\n",
            "8/8 [==============================] - 0s 3ms/step - loss: 0.3609 - accuracy: 0.8743\n",
            "Epoch 291/300\n",
            "8/8 [==============================] - 0s 2ms/step - loss: 0.3711 - accuracy: 0.8260\n",
            "Epoch 292/300\n",
            "8/8 [==============================] - 0s 3ms/step - loss: 0.3536 - accuracy: 0.8570\n",
            "Epoch 293/300\n",
            "8/8 [==============================] - 0s 2ms/step - loss: 0.3608 - accuracy: 0.8655\n",
            "Epoch 294/300\n",
            "8/8 [==============================] - 0s 2ms/step - loss: 0.3939 - accuracy: 0.8467\n",
            "Epoch 295/300\n",
            "8/8 [==============================] - 0s 2ms/step - loss: 0.3707 - accuracy: 0.8651\n",
            "Epoch 296/300\n",
            "8/8 [==============================] - 0s 3ms/step - loss: 0.4088 - accuracy: 0.8420\n",
            "Epoch 297/300\n",
            "8/8 [==============================] - 0s 2ms/step - loss: 0.3879 - accuracy: 0.8311\n",
            "Epoch 298/300\n",
            "8/8 [==============================] - 0s 2ms/step - loss: 0.3860 - accuracy: 0.8260\n",
            "Epoch 299/300\n",
            "8/8 [==============================] - 0s 3ms/step - loss: 0.3602 - accuracy: 0.8551\n",
            "Epoch 300/300\n",
            "8/8 [==============================] - 0s 1ms/step - loss: 0.3531 - accuracy: 0.8997\n"
          ],
          "name": "stdout"
        },
        {
          "output_type": "execute_result",
          "data": {
            "text/plain": [
              "<tensorflow.python.keras.callbacks.History at 0x7fa96210f438>"
            ]
          },
          "metadata": {
            "tags": []
          },
          "execution_count": 54
        }
      ]
    },
    {
      "cell_type": "code",
      "metadata": {
        "id": "3v6xgriG2_bs"
      },
      "source": [
        "Y_pred_nn = model.predict(X_test)\r\n"
      ],
      "execution_count": 55,
      "outputs": []
    },
    {
      "cell_type": "code",
      "metadata": {
        "colab": {
          "base_uri": "https://localhost:8080/"
        },
        "id": "cG50zuax3RB4",
        "outputId": "5a106aa8-bb78-4740-bbb9-e6abc0e67019"
      },
      "source": [
        "Y_pred_nn.shape\r\n"
      ],
      "execution_count": 56,
      "outputs": [
        {
          "output_type": "execute_result",
          "data": {
            "text/plain": [
              "(61, 1)"
            ]
          },
          "metadata": {
            "tags": []
          },
          "execution_count": 56
        }
      ]
    },
    {
      "cell_type": "code",
      "metadata": {
        "id": "KwyHSqVu3TJW"
      },
      "source": [
        "rounded = [round(x[0]) for x in Y_pred_nn]\r\n",
        "\r\n",
        "Y_pred_nn = rounded"
      ],
      "execution_count": 57,
      "outputs": []
    },
    {
      "cell_type": "code",
      "metadata": {
        "id": "n7QCvzFw3WIX"
      },
      "source": [
        ""
      ],
      "execution_count": 60,
      "outputs": []
    },
    {
      "cell_type": "code",
      "metadata": {
        "id": "ZXSA64bC3bC0"
      },
      "source": [
        ""
      ],
      "execution_count": null,
      "outputs": []
    }
  ]
}